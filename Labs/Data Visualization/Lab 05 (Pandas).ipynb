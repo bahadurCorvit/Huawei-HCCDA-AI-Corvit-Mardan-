{
 "cells": [
  {
   "cell_type": "markdown",
   "id": "37e1ba84",
   "metadata": {},
   "source": [
    "1. Introduction to Pandas Data Structures"
   ]
  },
  {
   "cell_type": "markdown",
   "id": "e23939ba",
   "metadata": {},
   "source": [
    "1.1 DataFrame Basics\n",
    "A DataFrame is a 2D labeled data structure (like a spreadsheet) with columns of different types."
   ]
  },
  {
   "cell_type": "code",
   "execution_count": 1,
   "id": "1e03a641",
   "metadata": {},
   "outputs": [
    {
     "name": "stdout",
     "output_type": "stream",
     "text": [
      "Basic DataFrame:\n",
      "      Name  Age  Salary\n",
      "0    Alice   25   50000\n",
      "1      Bob   30   60000\n",
      "2  Charlie   35   70000\n"
     ]
    }
   ],
   "source": [
    "import pandas as pd\n",
    "\n",
    "# Create a DataFrame from a dictionary\n",
    "data = {\n",
    "    'Name': ['Alice', 'Bob', 'Charlie'],\n",
    "    'Age': [25, 30, 35],\n",
    "    'Salary': [50000, 60000, 70000]\n",
    "}\n",
    "df = pd.DataFrame(data)\n",
    "\n",
    "print(\"Basic DataFrame:\")\n",
    "print(df)"
   ]
  },
  {
   "cell_type": "markdown",
   "id": "9365f0c8",
   "metadata": {},
   "source": [
    "1.2 Series Basics\n",
    "A Series is a 1D labeled array (like a column in a DataFrame)."
   ]
  },
  {
   "cell_type": "code",
   "execution_count": 2,
   "id": "5a03a33e",
   "metadata": {},
   "outputs": [
    {
     "name": "stdout",
     "output_type": "stream",
     "text": [
      "\n",
      "Series example:\n",
      "a    10\n",
      "b    20\n",
      "c    30\n",
      "d    40\n",
      "dtype: int64\n"
     ]
    }
   ],
   "source": [
    "# Create a Series\n",
    "s = pd.Series([10, 20, 30, 40], index=['a', 'b', 'c', 'd'])\n",
    "print(\"\\nSeries example:\")\n",
    "print(s)"
   ]
  },
  {
   "cell_type": "markdown",
   "id": "8ca1fe26",
   "metadata": {},
   "source": [
    "2. Data Selection & Indexing"
   ]
  },
  {
   "cell_type": "markdown",
   "id": "14b97b8a",
   "metadata": {},
   "source": [
    "2.1 Selecting Columns"
   ]
  },
  {
   "cell_type": "code",
   "execution_count": 4,
   "id": "43383bf2",
   "metadata": {},
   "outputs": [
    {
     "name": "stdout",
     "output_type": "stream",
     "text": [
      "\n",
      "Age column:\n",
      "0    25\n",
      "1    30\n",
      "2    35\n",
      "Name: Age, dtype: int64\n",
      "\n",
      "Name and Age columns:\n",
      "      Name  Age\n",
      "0    Alice   25\n",
      "1      Bob   30\n",
      "2  Charlie   35\n"
     ]
    }
   ],
   "source": [
    "# Single column (returns Series)\n",
    "print(\"\\nAge column:\")\n",
    "print(df['Age'])\n",
    "\n",
    "# Multiple columns (returns DataFrame)\n",
    "print(\"\\nName and Age columns:\")\n",
    "print(df[['Name', 'Age']])"
   ]
  },
  {
   "cell_type": "markdown",
   "id": "48f4ea9c",
   "metadata": {},
   "source": [
    "2.2 Label-based Selection (loc)"
   ]
  },
  {
   "cell_type": "code",
   "execution_count": 5,
   "id": "ce7b6bd1",
   "metadata": {},
   "outputs": [
    {
     "name": "stdout",
     "output_type": "stream",
     "text": [
      "\n",
      "First row (using loc):\n",
      "Name      Alice\n",
      "Age          25\n",
      "Salary    50000\n",
      "Name: 0, dtype: object\n",
      "\n",
      "Rows 0 to 2 (inclusive):\n",
      "      Name  Age  Salary\n",
      "0    Alice   25   50000\n",
      "1      Bob   30   60000\n",
      "2  Charlie   35   70000\n"
     ]
    }
   ],
   "source": [
    "# Select first row by label\n",
    "print(\"\\nFirst row (using loc):\")\n",
    "print(df.loc[0])\n",
    "\n",
    "# Select rows 0 to 2 (inclusive)\n",
    "print(\"\\nRows 0 to 2 (inclusive):\")\n",
    "print(df.loc[0:2])"
   ]
  },
  {
   "cell_type": "markdown",
   "id": "f010f8cd",
   "metadata": {},
   "source": [
    "2.3 Position-based Selection (iloc)"
   ]
  },
  {
   "cell_type": "code",
   "execution_count": 6,
   "id": "10be0058",
   "metadata": {},
   "outputs": [
    {
     "name": "stdout",
     "output_type": "stream",
     "text": [
      "\n",
      "First row (using iloc):\n",
      "Name      Alice\n",
      "Age          25\n",
      "Salary    50000\n",
      "Name: 0, dtype: object\n",
      "\n",
      "Rows 0 and 1 (using iloc):\n",
      "    Name  Age  Salary\n",
      "0  Alice   25   50000\n",
      "1    Bob   30   60000\n"
     ]
    }
   ],
   "source": [
    "# Select first row by position\n",
    "print(\"\\nFirst row (using iloc):\")\n",
    "print(df.iloc[0])\n",
    "\n",
    "# Select rows 0 and 1 (exclusive of 2)\n",
    "print(\"\\nRows 0 and 1 (using iloc):\")\n",
    "print(df.iloc[0:2])"
   ]
  },
  {
   "cell_type": "markdown",
   "id": "0e460c3f",
   "metadata": {},
   "source": [
    "2.4 Conditional Selection"
   ]
  },
  {
   "cell_type": "code",
   "execution_count": 7,
   "id": "d968da4d",
   "metadata": {},
   "outputs": [
    {
     "name": "stdout",
     "output_type": "stream",
     "text": [
      "\n",
      "People older than 25:\n",
      "      Name  Age  Salary\n",
      "1      Bob   30   60000\n",
      "2  Charlie   35   70000\n"
     ]
    }
   ],
   "source": [
    "# Select rows where Age > 25\n",
    "print(\"\\nPeople older than 25:\")\n",
    "print(df[df['Age'] > 25])"
   ]
  },
  {
   "cell_type": "markdown",
   "id": "82c1fee5",
   "metadata": {},
   "source": [
    "3. Data Manipulation"
   ]
  },
  {
   "cell_type": "markdown",
   "id": "e9671555",
   "metadata": {},
   "source": [
    "3.1 Modifying Data"
   ]
  },
  {
   "cell_type": "code",
   "execution_count": 9,
   "id": "83145e97",
   "metadata": {},
   "outputs": [
    {
     "name": "stdout",
     "output_type": "stream",
     "text": [
      "\n",
      "Updated DataFrame:\n",
      "      Name  Age  Salary\n",
      "0    Alice   25   50000\n",
      "1      Bob   30   65000\n",
      "2  Charlie   35   70000\n"
     ]
    }
   ],
   "source": [
    "# Update a specific cell\n",
    "df.loc[1, 'Salary'] = 65000\n",
    "print(\"\\nUpdated DataFrame:\")\n",
    "print(df)"
   ]
  },
  {
   "cell_type": "markdown",
   "id": "8fc96b96",
   "metadata": {},
   "source": [
    "3.2 Adding New Columns"
   ]
  },
  {
   "cell_type": "code",
   "execution_count": 10,
   "id": "15e1b688",
   "metadata": {},
   "outputs": [
    {
     "name": "stdout",
     "output_type": "stream",
     "text": [
      "\n",
      "DataFrame with Bonus column:\n",
      "      Name  Age  Salary   Bonus\n",
      "0    Alice   25   50000  5000.0\n",
      "1      Bob   30   65000  6500.0\n",
      "2  Charlie   35   70000  7000.0\n"
     ]
    }
   ],
   "source": [
    "# Add a new column\n",
    "df['Bonus'] = df['Salary'] * 0.1  # 10% bonus\n",
    "print(\"\\nDataFrame with Bonus column:\")\n",
    "print(df)"
   ]
  },
  {
   "cell_type": "markdown",
   "id": "f6fd0671",
   "metadata": {},
   "source": [
    "3.3 Dropping Columns/Rows"
   ]
  },
  {
   "cell_type": "code",
   "execution_count": 11,
   "id": "cdcf2e7e",
   "metadata": {},
   "outputs": [
    {
     "name": "stdout",
     "output_type": "stream",
     "text": [
      "\n",
      "DataFrame after dropping 'Bonus':\n",
      "      Name  Age  Salary\n",
      "0    Alice   25   50000\n",
      "1      Bob   30   65000\n",
      "2  Charlie   35   70000\n",
      "\n",
      "DataFrame after dropping row 1:\n",
      "      Name  Age  Salary   Bonus\n",
      "0    Alice   25   50000  5000.0\n",
      "2  Charlie   35   70000  7000.0\n"
     ]
    }
   ],
   "source": [
    "# Drop a column\n",
    "df_dropped = df.drop('Bonus', axis=1)\n",
    "print(\"\\nDataFrame after dropping 'Bonus':\")\n",
    "print(df_dropped)\n",
    "\n",
    "# Drop a row\n",
    "df_dropped_row = df.drop(1, axis=0)\n",
    "print(\"\\nDataFrame after dropping row 1:\")\n",
    "print(df_dropped_row)"
   ]
  },
  {
   "cell_type": "markdown",
   "id": "c6059b44",
   "metadata": {},
   "source": [
    "4. Handling Missing Data"
   ]
  },
  {
   "cell_type": "markdown",
   "id": "b7872021",
   "metadata": {},
   "source": [
    "4.1 Detecting Missing Values"
   ]
  },
  {
   "cell_type": "code",
   "execution_count": 12,
   "id": "27eee979",
   "metadata": {},
   "outputs": [
    {
     "name": "stdout",
     "output_type": "stream",
     "text": [
      "\n",
      "Check for missing values:\n",
      "       A      B\n",
      "0  False   True\n",
      "1  False  False\n",
      "2   True  False\n",
      "\n",
      "Count of missing values per column:\n",
      "A    1\n",
      "B    1\n",
      "dtype: int64\n"
     ]
    }
   ],
   "source": [
    "# Create a DataFrame with missing values\n",
    "df_nulls = pd.DataFrame({\n",
    "    'A': [1, 2, None],\n",
    "    'B': [None, 5, 6]\n",
    "})\n",
    "\n",
    "print(\"\\nCheck for missing values:\")\n",
    "print(df_nulls.isnull())\n",
    "\n",
    "print(\"\\nCount of missing values per column:\")\n",
    "print(df_nulls.isnull().sum())"
   ]
  },
  {
   "cell_type": "markdown",
   "id": "991a36e5",
   "metadata": {},
   "source": [
    "4.2 Filling Missing Values"
   ]
  },
  {
   "cell_type": "code",
   "execution_count": 13,
   "id": "f6995e81",
   "metadata": {},
   "outputs": [
    {
     "name": "stdout",
     "output_type": "stream",
     "text": [
      "\n",
      "DataFrame after filling missing values:\n",
      "     A    B\n",
      "0  1.0  0.0\n",
      "1  2.0  5.0\n",
      "2  0.0  6.0\n"
     ]
    }
   ],
   "source": [
    "# Fill missing values with 0\n",
    "df_filled = df_nulls.fillna(0)\n",
    "print(\"\\nDataFrame after filling missing values:\")\n",
    "print(df_filled)"
   ]
  },
  {
   "cell_type": "markdown",
   "id": "d8109957",
   "metadata": {},
   "source": [
    "5. Grouping & Aggregation"
   ]
  },
  {
   "cell_type": "markdown",
   "id": "3638b6b3",
   "metadata": {},
   "source": [
    "5.1 Basic GroupBy"
   ]
  },
  {
   "cell_type": "code",
   "execution_count": 14,
   "id": "09f31210",
   "metadata": {},
   "outputs": [
    {
     "name": "stdout",
     "output_type": "stream",
     "text": [
      "\n",
      "Mean sales by region:\n",
      "        Sales\n",
      "Region       \n",
      "East    125.0\n",
      "West    250.0\n"
     ]
    }
   ],
   "source": [
    "df_sales = pd.DataFrame({\n",
    "    'Region': ['East', 'West', 'East', 'West'],\n",
    "    'Sales': [100, 200, 150, 300]\n",
    "})\n",
    "\n",
    "# Group by 'Region' and compute mean sales\n",
    "grouped = df_sales.groupby('Region')\n",
    "print(\"\\nMean sales by region:\")\n",
    "print(grouped.mean())"
   ]
  },
  {
   "cell_type": "markdown",
   "id": "d9a56ac8",
   "metadata": {},
   "source": [
    "5.2 Multiple Aggregations"
   ]
  },
  {
   "cell_type": "code",
   "execution_count": 15,
   "id": "0034cfb3",
   "metadata": {},
   "outputs": [
    {
     "name": "stdout",
     "output_type": "stream",
     "text": [
      "\n",
      "Multiple aggregations:\n",
      "       Sales            \n",
      "         sum   mean  max\n",
      "Region                  \n",
      "East     250  125.0  150\n",
      "West     500  250.0  300\n"
     ]
    }
   ],
   "source": [
    "# Compute multiple statistics\n",
    "print(\"\\nMultiple aggregations:\")\n",
    "print(grouped.agg(['sum', 'mean', 'max']))"
   ]
  },
  {
   "cell_type": "markdown",
   "id": "e8961177",
   "metadata": {},
   "source": [
    "6. Merging & Joining DataFrames"
   ]
  },
  {
   "cell_type": "markdown",
   "id": "1fde6a9c",
   "metadata": {},
   "source": [
    "6.1 Concatenation"
   ]
  },
  {
   "cell_type": "code",
   "execution_count": 16,
   "id": "db8a6c05",
   "metadata": {},
   "outputs": [
    {
     "name": "stdout",
     "output_type": "stream",
     "text": [
      "\n",
      "Vertical concatenation:\n",
      "   A  B\n",
      "0  1  3\n",
      "1  2  4\n",
      "0  5  7\n",
      "1  6  8\n",
      "\n",
      "Horizontal concatenation:\n",
      "   A  B  A  B\n",
      "0  1  3  5  7\n",
      "1  2  4  6  8\n"
     ]
    }
   ],
   "source": [
    "df1 = pd.DataFrame({'A': [1, 2], 'B': [3, 4]})\n",
    "df2 = pd.DataFrame({'A': [5, 6], 'B': [7, 8]})\n",
    "\n",
    "# Vertical concatenation (stack rows)\n",
    "print(\"\\nVertical concatenation:\")\n",
    "print(pd.concat([df1, df2], axis=0))\n",
    "\n",
    "# Horizontal concatenation (stack columns)\n",
    "print(\"\\nHorizontal concatenation:\")\n",
    "print(pd.concat([df1, df2], axis=1))"
   ]
  },
  {
   "cell_type": "markdown",
   "id": "f426b633",
   "metadata": {},
   "source": [
    "6.2 Merging (SQL-like Joins)"
   ]
  },
  {
   "cell_type": "code",
   "execution_count": 17,
   "id": "e39e42e0",
   "metadata": {},
   "outputs": [
    {
     "name": "stdout",
     "output_type": "stream",
     "text": [
      "\n",
      "Inner join:\n",
      "  key  value_x  value_y\n",
      "0   a        1        3\n",
      "\n",
      "Left join:\n",
      "  key  value_x  value_y\n",
      "0   a        1      3.0\n",
      "1   b        2      NaN\n"
     ]
    }
   ],
   "source": [
    "left = pd.DataFrame({'key': ['a', 'b'], 'value': [1, 2]})\n",
    "right = pd.DataFrame({'key': ['a', 'c'], 'value': [3, 4]})\n",
    "\n",
    "# Inner join (intersection)\n",
    "print(\"\\nInner join:\")\n",
    "print(pd.merge(left, right, on='key', how='inner'))\n",
    "\n",
    "# Left join (all from left, matching from right)\n",
    "print(\"\\nLeft join:\")\n",
    "print(pd.merge(left, right, on='key', how='left'))"
   ]
  },
  {
   "cell_type": "markdown",
   "id": "24def057",
   "metadata": {},
   "source": [
    "7. Time Series Operations"
   ]
  },
  {
   "cell_type": "markdown",
   "id": "61b53a01",
   "metadata": {},
   "source": [
    "7.1 Working with Dates"
   ]
  },
  {
   "cell_type": "code",
   "execution_count": 18,
   "id": "64cb88d5",
   "metadata": {},
   "outputs": [
    {
     "name": "stdout",
     "output_type": "stream",
     "text": [
      "\n",
      "DataFrame with datetime index:\n",
      "            Value\n",
      "Date             \n",
      "2023-01-01     10\n",
      "2023-01-02     20\n"
     ]
    }
   ],
   "source": [
    "df_dates = pd.DataFrame({\n",
    "    'Date': ['2023-01-01', '2023-01-02'],\n",
    "    'Value': [10, 20]\n",
    "})\n",
    "\n",
    "# Convert to datetime\n",
    "df_dates['Date'] = pd.to_datetime(df_dates['Date'])\n",
    "df_dates.set_index('Date', inplace=True)\n",
    "\n",
    "print(\"\\nDataFrame with datetime index:\")\n",
    "print(df_dates)"
   ]
  },
  {
   "cell_type": "markdown",
   "id": "b164baa7",
   "metadata": {},
   "source": [
    "7.2 Resampling Time Series"
   ]
  },
  {
   "cell_type": "code",
   "execution_count": 19,
   "id": "46b97613",
   "metadata": {},
   "outputs": [
    {
     "name": "stdout",
     "output_type": "stream",
     "text": [
      "\n",
      "Monthly resampling:\n",
      "            Value\n",
      "Date             \n",
      "2023-01-31   15.0\n"
     ]
    }
   ],
   "source": [
    "# Resample to monthly frequency (mean)\n",
    "print(\"\\nMonthly resampling:\")\n",
    "print(df_dates.resample('M').mean())"
   ]
  },
  {
   "cell_type": "markdown",
   "id": "3607bd33",
   "metadata": {},
   "source": [
    "8. String Operations"
   ]
  },
  {
   "cell_type": "markdown",
   "id": "c4588aa9",
   "metadata": {},
   "source": [
    "8.1 Basic String Manipulation"
   ]
  },
  {
   "cell_type": "code",
   "execution_count": 20,
   "id": "bd737f54",
   "metadata": {},
   "outputs": [
    {
     "name": "stdout",
     "output_type": "stream",
     "text": [
      "\n",
      "Names in lowercase:\n",
      "0      alice\n",
      "1        bob\n",
      "2    charlie\n",
      "Name: Name, dtype: object\n"
     ]
    }
   ],
   "source": [
    "df['Name'] = df['Name'].str.lower()\n",
    "print(\"\\nNames in lowercase:\")\n",
    "print(df['Name'])"
   ]
  },
  {
   "cell_type": "markdown",
   "id": "50b317c7",
   "metadata": {},
   "source": [
    "8.2 Splitting Strings"
   ]
  },
  {
   "cell_type": "code",
   "execution_count": 21,
   "id": "208f4c45",
   "metadata": {},
   "outputs": [
    {
     "name": "stdout",
     "output_type": "stream",
     "text": [
      "\n",
      "Split names into First and Last:\n",
      "      FullName  First     Last\n",
      "0  Alice Smith  Alice    Smith\n",
      "1  Bob Johnson    Bob  Johnson\n"
     ]
    }
   ],
   "source": [
    "df_names = pd.DataFrame({'FullName': ['Alice Smith', 'Bob Johnson']})\n",
    "df_names[['First', 'Last']] = df_names['FullName'].str.split(' ', expand=True)\n",
    "print(\"\\nSplit names into First and Last:\")\n",
    "print(df_names)"
   ]
  },
  {
   "cell_type": "markdown",
   "id": "9dce1851",
   "metadata": {},
   "source": [
    "9. Pivot Tables & Cross-Tabulation"
   ]
  },
  {
   "cell_type": "markdown",
   "id": "445b94fc",
   "metadata": {},
   "source": [
    "9.1 Pivot Tables"
   ]
  },
  {
   "cell_type": "code",
   "execution_count": 22,
   "id": "be7858aa",
   "metadata": {},
   "outputs": [
    {
     "name": "stdout",
     "output_type": "stream",
     "text": [
      "\n",
      "Pivot table (mean income by AgeGroup and Gender):\n",
      "Gender        F      M\n",
      "AgeGroup              \n",
      "Old       75000  70000\n",
      "Young     45000  40000\n"
     ]
    }
   ],
   "source": [
    "df_pivot = pd.DataFrame({\n",
    "    'AgeGroup': ['Young', 'Young', 'Old', 'Old'],\n",
    "    'Gender': ['M', 'F', 'M', 'F'],\n",
    "    'Income': [40000, 45000, 70000, 75000]\n",
    "})\n",
    "\n",
    "print(\"\\nPivot table (mean income by AgeGroup and Gender):\")\n",
    "print(pd.pivot_table(df_pivot, values='Income', index='AgeGroup', columns='Gender', aggfunc='mean'))"
   ]
  },
  {
   "cell_type": "markdown",
   "id": "2cfba4ca",
   "metadata": {},
   "source": [
    "9.2 Cross-Tabulation"
   ]
  },
  {
   "cell_type": "code",
   "execution_count": 23,
   "id": "2a203b2a",
   "metadata": {},
   "outputs": [
    {
     "name": "stdout",
     "output_type": "stream",
     "text": [
      "\n",
      "Cross-tabulation (AgeGroup vs Gender):\n",
      "Gender    F  M\n",
      "AgeGroup      \n",
      "Old       1  1\n",
      "Young     1  1\n"
     ]
    }
   ],
   "source": [
    "print(\"\\nCross-tabulation (AgeGroup vs Gender):\")\n",
    "print(pd.crosstab(df_pivot['AgeGroup'], df_pivot['Gender']))"
   ]
  },
  {
   "cell_type": "markdown",
   "id": "d6701f6b",
   "metadata": {},
   "source": [
    "10. File I/O Operations"
   ]
  },
  {
   "cell_type": "markdown",
   "id": "88d36c4c",
   "metadata": {},
   "source": [
    "10.1 Reading from CSV"
   ]
  },
  {
   "cell_type": "code",
   "execution_count": 2,
   "id": "f6c58e64",
   "metadata": {},
   "outputs": [
    {
     "name": "stdout",
     "output_type": "stream",
     "text": [
      "\n",
      "Reading CSV: pd.read_csv('data.csv')\n"
     ]
    }
   ],
   "source": [
    "import pandas as pd\n",
    "\n",
    "df = pd.read_csv('D:\\Corvit\\Mardan\\Huawei-HCCDA-AI-Corvit-Mardan-\\Labs\\Data Visualization\\data.csv')\n",
    "print(\"\\nReading CSV: pd.read_csv('data.csv')\")"
   ]
  },
  {
   "cell_type": "code",
   "execution_count": 3,
   "id": "dbb376ce",
   "metadata": {},
   "outputs": [
    {
     "data": {
      "text/html": [
       "<div>\n",
       "<style scoped>\n",
       "    .dataframe tbody tr th:only-of-type {\n",
       "        vertical-align: middle;\n",
       "    }\n",
       "\n",
       "    .dataframe tbody tr th {\n",
       "        vertical-align: top;\n",
       "    }\n",
       "\n",
       "    .dataframe thead th {\n",
       "        text-align: right;\n",
       "    }\n",
       "</style>\n",
       "<table border=\"1\" class=\"dataframe\">\n",
       "  <thead>\n",
       "    <tr style=\"text-align: right;\">\n",
       "      <th></th>\n",
       "      <th>Year</th>\n",
       "      <th>Industry_aggregation_NZSIOC</th>\n",
       "      <th>Industry_code_NZSIOC</th>\n",
       "      <th>Industry_name_NZSIOC</th>\n",
       "      <th>Units</th>\n",
       "      <th>Variable_code</th>\n",
       "      <th>Variable_name</th>\n",
       "      <th>Variable_category</th>\n",
       "      <th>Value</th>\n",
       "      <th>Industry_code_ANZSIC06</th>\n",
       "    </tr>\n",
       "  </thead>\n",
       "  <tbody>\n",
       "    <tr>\n",
       "      <th>0</th>\n",
       "      <td>2023</td>\n",
       "      <td>Level 1</td>\n",
       "      <td>99999</td>\n",
       "      <td>All industries</td>\n",
       "      <td>Dollars (millions)</td>\n",
       "      <td>H01</td>\n",
       "      <td>Total income</td>\n",
       "      <td>Financial performance</td>\n",
       "      <td>930995</td>\n",
       "      <td>ANZSIC06 divisions A-S (excluding classes K633...</td>\n",
       "    </tr>\n",
       "    <tr>\n",
       "      <th>1</th>\n",
       "      <td>2023</td>\n",
       "      <td>Level 1</td>\n",
       "      <td>99999</td>\n",
       "      <td>All industries</td>\n",
       "      <td>Dollars (millions)</td>\n",
       "      <td>H04</td>\n",
       "      <td>Sales, government funding, grants and subsidies</td>\n",
       "      <td>Financial performance</td>\n",
       "      <td>821630</td>\n",
       "      <td>ANZSIC06 divisions A-S (excluding classes K633...</td>\n",
       "    </tr>\n",
       "    <tr>\n",
       "      <th>2</th>\n",
       "      <td>2023</td>\n",
       "      <td>Level 1</td>\n",
       "      <td>99999</td>\n",
       "      <td>All industries</td>\n",
       "      <td>Dollars (millions)</td>\n",
       "      <td>H05</td>\n",
       "      <td>Interest, dividends and donations</td>\n",
       "      <td>Financial performance</td>\n",
       "      <td>84354</td>\n",
       "      <td>ANZSIC06 divisions A-S (excluding classes K633...</td>\n",
       "    </tr>\n",
       "    <tr>\n",
       "      <th>3</th>\n",
       "      <td>2023</td>\n",
       "      <td>Level 1</td>\n",
       "      <td>99999</td>\n",
       "      <td>All industries</td>\n",
       "      <td>Dollars (millions)</td>\n",
       "      <td>H07</td>\n",
       "      <td>Non-operating income</td>\n",
       "      <td>Financial performance</td>\n",
       "      <td>25010</td>\n",
       "      <td>ANZSIC06 divisions A-S (excluding classes K633...</td>\n",
       "    </tr>\n",
       "    <tr>\n",
       "      <th>4</th>\n",
       "      <td>2023</td>\n",
       "      <td>Level 1</td>\n",
       "      <td>99999</td>\n",
       "      <td>All industries</td>\n",
       "      <td>Dollars (millions)</td>\n",
       "      <td>H08</td>\n",
       "      <td>Total expenditure</td>\n",
       "      <td>Financial performance</td>\n",
       "      <td>832964</td>\n",
       "      <td>ANZSIC06 divisions A-S (excluding classes K633...</td>\n",
       "    </tr>\n",
       "  </tbody>\n",
       "</table>\n",
       "</div>"
      ],
      "text/plain": [
       "   Year Industry_aggregation_NZSIOC Industry_code_NZSIOC Industry_name_NZSIOC  \\\n",
       "0  2023                     Level 1                99999       All industries   \n",
       "1  2023                     Level 1                99999       All industries   \n",
       "2  2023                     Level 1                99999       All industries   \n",
       "3  2023                     Level 1                99999       All industries   \n",
       "4  2023                     Level 1                99999       All industries   \n",
       "\n",
       "                Units Variable_code  \\\n",
       "0  Dollars (millions)           H01   \n",
       "1  Dollars (millions)           H04   \n",
       "2  Dollars (millions)           H05   \n",
       "3  Dollars (millions)           H07   \n",
       "4  Dollars (millions)           H08   \n",
       "\n",
       "                                     Variable_name      Variable_category  \\\n",
       "0                                     Total income  Financial performance   \n",
       "1  Sales, government funding, grants and subsidies  Financial performance   \n",
       "2                Interest, dividends and donations  Financial performance   \n",
       "3                             Non-operating income  Financial performance   \n",
       "4                                Total expenditure  Financial performance   \n",
       "\n",
       "    Value                             Industry_code_ANZSIC06  \n",
       "0  930995  ANZSIC06 divisions A-S (excluding classes K633...  \n",
       "1  821630  ANZSIC06 divisions A-S (excluding classes K633...  \n",
       "2   84354  ANZSIC06 divisions A-S (excluding classes K633...  \n",
       "3   25010  ANZSIC06 divisions A-S (excluding classes K633...  \n",
       "4  832964  ANZSIC06 divisions A-S (excluding classes K633...  "
      ]
     },
     "execution_count": 3,
     "metadata": {},
     "output_type": "execute_result"
    }
   ],
   "source": [
    "df.head()"
   ]
  },
  {
   "cell_type": "markdown",
   "id": "b6007c6f",
   "metadata": {},
   "source": [
    "10.2 Writing to CSV"
   ]
  },
  {
   "cell_type": "code",
   "execution_count": 4,
   "id": "396bad89",
   "metadata": {},
   "outputs": [
    {
     "name": "stdout",
     "output_type": "stream",
     "text": [
      "\n",
      "DataFrame saved to 'output.csv'\n"
     ]
    }
   ],
   "source": [
    "df.to_csv('output.csv', index=False)\n",
    "print(\"\\nDataFrame saved to 'output.csv'\")"
   ]
  },
  {
   "cell_type": "markdown",
   "id": "384d150e",
   "metadata": {},
   "source": [
    "10.3 Reading from Excel"
   ]
  },
  {
   "cell_type": "code",
   "execution_count": 5,
   "id": "40418b8d",
   "metadata": {},
   "outputs": [
    {
     "name": "stdout",
     "output_type": "stream",
     "text": [
      "\n",
      "Reading Excel: pd.read_excel('data.xlsx')\n"
     ]
    }
   ],
   "source": [
    "# df = pd.read_excel('data.xlsx', sheet_name='Sheet1')\n",
    "print(\"\\nReading Excel: pd.read_excel('data.xlsx')\")"
   ]
  },
  {
   "cell_type": "markdown",
   "id": "5486cabc",
   "metadata": {},
   "source": [
    "\n",
    "### 1. MultiIndex Operations\n",
    "\n",
    "- Set multiple columns as index for hierarchical data access\n",
    "- Enables advanced selection using tuples (level1, level2)\n"
   ]
  },
  {
   "cell_type": "code",
   "execution_count": 7,
   "id": "80587f28",
   "metadata": {},
   "outputs": [
    {
     "data": {
      "text/plain": [
       "Income    50000\n",
       "Name: (Adult, Male), dtype: int64"
      ]
     },
     "execution_count": 7,
     "metadata": {},
     "output_type": "execute_result"
    }
   ],
   "source": [
    "df = pd.DataFrame({\n",
    "    'AgeGroup': ['Adult','Adult','Minor','Minor'],\n",
    "    'Gender': ['Male','Female','Male','Female'],\n",
    "    'Income': [50000,60000,20000,30000]\n",
    "})\n",
    "df.set_index(['AgeGroup','Gender'], inplace=True)\n",
    "df.loc[('Adult','Male')]  # Select specific combination"
   ]
  },
  {
   "cell_type": "markdown",
   "id": "656136bb",
   "metadata": {},
   "source": [
    "### 2. Fast Value Access\n",
    "'''\n",
    "- at[]: label-based scalar access (faster than loc for single values)\n",
    "- iat[]: position-based integer access\n",
    "'''"
   ]
  },
  {
   "cell_type": "code",
   "execution_count": 10,
   "id": "5bccd356",
   "metadata": {},
   "outputs": [
    {
     "ename": "KeyError",
     "evalue": "'Name'",
     "output_type": "error",
     "traceback": [
      "\u001b[1;31m---------------------------------------------------------------------------\u001b[0m",
      "\u001b[1;31mKeyError\u001b[0m                                  Traceback (most recent call last)",
      "File \u001b[1;32mc:\\Users\\Admin\\anaconda3\\envs\\alevel\\lib\\site-packages\\pandas\\core\\indexes\\base.py:3653\u001b[0m, in \u001b[0;36mIndex.get_loc\u001b[1;34m(self, key)\u001b[0m\n\u001b[0;32m   3652\u001b[0m \u001b[38;5;28;01mtry\u001b[39;00m:\n\u001b[1;32m-> 3653\u001b[0m     \u001b[38;5;28;01mreturn\u001b[39;00m \u001b[38;5;28;43mself\u001b[39;49m\u001b[38;5;241;43m.\u001b[39;49m\u001b[43m_engine\u001b[49m\u001b[38;5;241;43m.\u001b[39;49m\u001b[43mget_loc\u001b[49m\u001b[43m(\u001b[49m\u001b[43mcasted_key\u001b[49m\u001b[43m)\u001b[49m\n\u001b[0;32m   3654\u001b[0m \u001b[38;5;28;01mexcept\u001b[39;00m \u001b[38;5;167;01mKeyError\u001b[39;00m \u001b[38;5;28;01mas\u001b[39;00m err:\n",
      "File \u001b[1;32mc:\\Users\\Admin\\anaconda3\\envs\\alevel\\lib\\site-packages\\pandas\\_libs\\index.pyx:147\u001b[0m, in \u001b[0;36mpandas._libs.index.IndexEngine.get_loc\u001b[1;34m()\u001b[0m\n",
      "File \u001b[1;32mc:\\Users\\Admin\\anaconda3\\envs\\alevel\\lib\\site-packages\\pandas\\_libs\\index.pyx:176\u001b[0m, in \u001b[0;36mpandas._libs.index.IndexEngine.get_loc\u001b[1;34m()\u001b[0m\n",
      "File \u001b[1;32mpandas\\_libs\\hashtable_class_helper.pxi:7080\u001b[0m, in \u001b[0;36mpandas._libs.hashtable.PyObjectHashTable.get_item\u001b[1;34m()\u001b[0m\n",
      "File \u001b[1;32mpandas\\_libs\\hashtable_class_helper.pxi:7088\u001b[0m, in \u001b[0;36mpandas._libs.hashtable.PyObjectHashTable.get_item\u001b[1;34m()\u001b[0m\n",
      "\u001b[1;31mKeyError\u001b[0m: 'Name'",
      "\nThe above exception was the direct cause of the following exception:\n",
      "\u001b[1;31mKeyError\u001b[0m                                  Traceback (most recent call last)",
      "Cell \u001b[1;32mIn[10], line 2\u001b[0m\n\u001b[0;32m      1\u001b[0m df\u001b[38;5;241m.\u001b[39mreset_index(inplace\u001b[38;5;241m=\u001b[39m\u001b[38;5;28;01mTrue\u001b[39;00m)\n\u001b[1;32m----> 2\u001b[0m \u001b[43mdf\u001b[49m\u001b[38;5;241;43m.\u001b[39;49m\u001b[43mat\u001b[49m\u001b[43m[\u001b[49m\u001b[38;5;241;43m0\u001b[39;49m\u001b[43m,\u001b[49m\u001b[38;5;124;43m'\u001b[39;49m\u001b[38;5;124;43mName\u001b[39;49m\u001b[38;5;124;43m'\u001b[39;49m\u001b[43m]\u001b[49m  \u001b[38;5;66;03m# Get name of first record\u001b[39;00m\n\u001b[0;32m      3\u001b[0m df\u001b[38;5;241m.\u001b[39miat[\u001b[38;5;241m0\u001b[39m,\u001b[38;5;241m1\u001b[39m]\n",
      "File \u001b[1;32mc:\\Users\\Admin\\anaconda3\\envs\\alevel\\lib\\site-packages\\pandas\\core\\indexing.py:2419\u001b[0m, in \u001b[0;36m_AtIndexer.__getitem__\u001b[1;34m(self, key)\u001b[0m\n\u001b[0;32m   2416\u001b[0m         \u001b[38;5;28;01mraise\u001b[39;00m \u001b[38;5;167;01mValueError\u001b[39;00m(\u001b[38;5;124m\"\u001b[39m\u001b[38;5;124mInvalid call for scalar access (getting)!\u001b[39m\u001b[38;5;124m\"\u001b[39m)\n\u001b[0;32m   2417\u001b[0m     \u001b[38;5;28;01mreturn\u001b[39;00m \u001b[38;5;28mself\u001b[39m\u001b[38;5;241m.\u001b[39mobj\u001b[38;5;241m.\u001b[39mloc[key]\n\u001b[1;32m-> 2419\u001b[0m \u001b[38;5;28;01mreturn\u001b[39;00m \u001b[38;5;28;43msuper\u001b[39;49m\u001b[43m(\u001b[49m\u001b[43m)\u001b[49m\u001b[38;5;241;43m.\u001b[39;49m\u001b[38;5;21;43m__getitem__\u001b[39;49m\u001b[43m(\u001b[49m\u001b[43mkey\u001b[49m\u001b[43m)\u001b[49m\n",
      "File \u001b[1;32mc:\\Users\\Admin\\anaconda3\\envs\\alevel\\lib\\site-packages\\pandas\\core\\indexing.py:2371\u001b[0m, in \u001b[0;36m_ScalarAccessIndexer.__getitem__\u001b[1;34m(self, key)\u001b[0m\n\u001b[0;32m   2368\u001b[0m         \u001b[38;5;28;01mraise\u001b[39;00m \u001b[38;5;167;01mValueError\u001b[39;00m(\u001b[38;5;124m\"\u001b[39m\u001b[38;5;124mInvalid call for scalar access (getting)!\u001b[39m\u001b[38;5;124m\"\u001b[39m)\n\u001b[0;32m   2370\u001b[0m key \u001b[38;5;241m=\u001b[39m \u001b[38;5;28mself\u001b[39m\u001b[38;5;241m.\u001b[39m_convert_key(key)\n\u001b[1;32m-> 2371\u001b[0m \u001b[38;5;28;01mreturn\u001b[39;00m \u001b[38;5;28;43mself\u001b[39;49m\u001b[38;5;241;43m.\u001b[39;49m\u001b[43mobj\u001b[49m\u001b[38;5;241;43m.\u001b[39;49m\u001b[43m_get_value\u001b[49m\u001b[43m(\u001b[49m\u001b[38;5;241;43m*\u001b[39;49m\u001b[43mkey\u001b[49m\u001b[43m,\u001b[49m\u001b[43m \u001b[49m\u001b[43mtakeable\u001b[49m\u001b[38;5;241;43m=\u001b[39;49m\u001b[38;5;28;43mself\u001b[39;49m\u001b[38;5;241;43m.\u001b[39;49m\u001b[43m_takeable\u001b[49m\u001b[43m)\u001b[49m\n",
      "File \u001b[1;32mc:\\Users\\Admin\\anaconda3\\envs\\alevel\\lib\\site-packages\\pandas\\core\\frame.py:3870\u001b[0m, in \u001b[0;36mDataFrame._get_value\u001b[1;34m(self, index, col, takeable)\u001b[0m\n\u001b[0;32m   3867\u001b[0m     series \u001b[38;5;241m=\u001b[39m \u001b[38;5;28mself\u001b[39m\u001b[38;5;241m.\u001b[39m_ixs(col, axis\u001b[38;5;241m=\u001b[39m\u001b[38;5;241m1\u001b[39m)\n\u001b[0;32m   3868\u001b[0m     \u001b[38;5;28;01mreturn\u001b[39;00m series\u001b[38;5;241m.\u001b[39m_values[index]\n\u001b[1;32m-> 3870\u001b[0m series \u001b[38;5;241m=\u001b[39m \u001b[38;5;28;43mself\u001b[39;49m\u001b[38;5;241;43m.\u001b[39;49m\u001b[43m_get_item_cache\u001b[49m\u001b[43m(\u001b[49m\u001b[43mcol\u001b[49m\u001b[43m)\u001b[49m\n\u001b[0;32m   3871\u001b[0m engine \u001b[38;5;241m=\u001b[39m \u001b[38;5;28mself\u001b[39m\u001b[38;5;241m.\u001b[39mindex\u001b[38;5;241m.\u001b[39m_engine\n\u001b[0;32m   3873\u001b[0m \u001b[38;5;28;01mif\u001b[39;00m \u001b[38;5;129;01mnot\u001b[39;00m \u001b[38;5;28misinstance\u001b[39m(\u001b[38;5;28mself\u001b[39m\u001b[38;5;241m.\u001b[39mindex, MultiIndex):\n\u001b[0;32m   3874\u001b[0m     \u001b[38;5;66;03m# CategoricalIndex: Trying to use the engine fastpath may give incorrect\u001b[39;00m\n\u001b[0;32m   3875\u001b[0m     \u001b[38;5;66;03m#  results if our categories are integers that dont match our codes\u001b[39;00m\n\u001b[0;32m   3876\u001b[0m     \u001b[38;5;66;03m# IntervalIndex: IntervalTree has no get_loc\u001b[39;00m\n",
      "File \u001b[1;32mc:\\Users\\Admin\\anaconda3\\envs\\alevel\\lib\\site-packages\\pandas\\core\\frame.py:4255\u001b[0m, in \u001b[0;36mDataFrame._get_item_cache\u001b[1;34m(self, item)\u001b[0m\n\u001b[0;32m   4250\u001b[0m res \u001b[38;5;241m=\u001b[39m cache\u001b[38;5;241m.\u001b[39mget(item)\n\u001b[0;32m   4251\u001b[0m \u001b[38;5;28;01mif\u001b[39;00m res \u001b[38;5;129;01mis\u001b[39;00m \u001b[38;5;28;01mNone\u001b[39;00m:\n\u001b[0;32m   4252\u001b[0m     \u001b[38;5;66;03m# All places that call _get_item_cache have unique columns,\u001b[39;00m\n\u001b[0;32m   4253\u001b[0m     \u001b[38;5;66;03m#  pending resolution of GH#33047\u001b[39;00m\n\u001b[1;32m-> 4255\u001b[0m     loc \u001b[38;5;241m=\u001b[39m \u001b[38;5;28;43mself\u001b[39;49m\u001b[38;5;241;43m.\u001b[39;49m\u001b[43mcolumns\u001b[49m\u001b[38;5;241;43m.\u001b[39;49m\u001b[43mget_loc\u001b[49m\u001b[43m(\u001b[49m\u001b[43mitem\u001b[49m\u001b[43m)\u001b[49m\n\u001b[0;32m   4256\u001b[0m     res \u001b[38;5;241m=\u001b[39m \u001b[38;5;28mself\u001b[39m\u001b[38;5;241m.\u001b[39m_ixs(loc, axis\u001b[38;5;241m=\u001b[39m\u001b[38;5;241m1\u001b[39m)\n\u001b[0;32m   4258\u001b[0m     cache[item] \u001b[38;5;241m=\u001b[39m res\n",
      "File \u001b[1;32mc:\\Users\\Admin\\anaconda3\\envs\\alevel\\lib\\site-packages\\pandas\\core\\indexes\\base.py:3655\u001b[0m, in \u001b[0;36mIndex.get_loc\u001b[1;34m(self, key)\u001b[0m\n\u001b[0;32m   3653\u001b[0m     \u001b[38;5;28;01mreturn\u001b[39;00m \u001b[38;5;28mself\u001b[39m\u001b[38;5;241m.\u001b[39m_engine\u001b[38;5;241m.\u001b[39mget_loc(casted_key)\n\u001b[0;32m   3654\u001b[0m \u001b[38;5;28;01mexcept\u001b[39;00m \u001b[38;5;167;01mKeyError\u001b[39;00m \u001b[38;5;28;01mas\u001b[39;00m err:\n\u001b[1;32m-> 3655\u001b[0m     \u001b[38;5;28;01mraise\u001b[39;00m \u001b[38;5;167;01mKeyError\u001b[39;00m(key) \u001b[38;5;28;01mfrom\u001b[39;00m \u001b[38;5;21;01merr\u001b[39;00m\n\u001b[0;32m   3656\u001b[0m \u001b[38;5;28;01mexcept\u001b[39;00m \u001b[38;5;167;01mTypeError\u001b[39;00m:\n\u001b[0;32m   3657\u001b[0m     \u001b[38;5;66;03m# If we have a listlike key, _check_indexing_error will raise\u001b[39;00m\n\u001b[0;32m   3658\u001b[0m     \u001b[38;5;66;03m#  InvalidIndexError. Otherwise we fall through and re-raise\u001b[39;00m\n\u001b[0;32m   3659\u001b[0m     \u001b[38;5;66;03m#  the TypeError.\u001b[39;00m\n\u001b[0;32m   3660\u001b[0m     \u001b[38;5;28mself\u001b[39m\u001b[38;5;241m.\u001b[39m_check_indexing_error(key)\n",
      "\u001b[1;31mKeyError\u001b[0m: 'Name'"
     ]
    }
   ],
   "source": [
    "df.reset_index(inplace=True)\n",
    "df.at[0,'Name']  # Get name of first record\n",
    "df.iat[0,1]     # Get value at row 0, column 1"
   ]
  },
  {
   "cell_type": "markdown",
   "id": "a377fbcd",
   "metadata": {},
   "source": [
    "### 3. Memory Optimization\n",
    "'''\n",
    "- Convert strings to 'category' dtype for memory savings\n",
    "- Downcast numeric columns to smallest possible type\n",
    "'''"
   ]
  },
  {
   "cell_type": "code",
   "execution_count": null,
   "id": "3dffde03",
   "metadata": {},
   "outputs": [
    {
     "ename": "KeyError",
     "evalue": "'Name'",
     "output_type": "error",
     "traceback": [
      "\u001b[1;31m---------------------------------------------------------------------------\u001b[0m",
      "\u001b[1;31mKeyError\u001b[0m                                  Traceback (most recent call last)",
      "File \u001b[1;32mc:\\Users\\Admin\\anaconda3\\envs\\alevel\\lib\\site-packages\\pandas\\core\\indexes\\base.py:3653\u001b[0m, in \u001b[0;36mIndex.get_loc\u001b[1;34m(self, key)\u001b[0m\n\u001b[0;32m   3652\u001b[0m \u001b[38;5;28;01mtry\u001b[39;00m:\n\u001b[1;32m-> 3653\u001b[0m     \u001b[38;5;28;01mreturn\u001b[39;00m \u001b[38;5;28;43mself\u001b[39;49m\u001b[38;5;241;43m.\u001b[39;49m\u001b[43m_engine\u001b[49m\u001b[38;5;241;43m.\u001b[39;49m\u001b[43mget_loc\u001b[49m\u001b[43m(\u001b[49m\u001b[43mcasted_key\u001b[49m\u001b[43m)\u001b[49m\n\u001b[0;32m   3654\u001b[0m \u001b[38;5;28;01mexcept\u001b[39;00m \u001b[38;5;167;01mKeyError\u001b[39;00m \u001b[38;5;28;01mas\u001b[39;00m err:\n",
      "File \u001b[1;32mc:\\Users\\Admin\\anaconda3\\envs\\alevel\\lib\\site-packages\\pandas\\_libs\\index.pyx:147\u001b[0m, in \u001b[0;36mpandas._libs.index.IndexEngine.get_loc\u001b[1;34m()\u001b[0m\n",
      "File \u001b[1;32mc:\\Users\\Admin\\anaconda3\\envs\\alevel\\lib\\site-packages\\pandas\\_libs\\index.pyx:176\u001b[0m, in \u001b[0;36mpandas._libs.index.IndexEngine.get_loc\u001b[1;34m()\u001b[0m\n",
      "File \u001b[1;32mpandas\\_libs\\hashtable_class_helper.pxi:7080\u001b[0m, in \u001b[0;36mpandas._libs.hashtable.PyObjectHashTable.get_item\u001b[1;34m()\u001b[0m\n",
      "File \u001b[1;32mpandas\\_libs\\hashtable_class_helper.pxi:7088\u001b[0m, in \u001b[0;36mpandas._libs.hashtable.PyObjectHashTable.get_item\u001b[1;34m()\u001b[0m\n",
      "\u001b[1;31mKeyError\u001b[0m: 'Name'",
      "\nThe above exception was the direct cause of the following exception:\n",
      "\u001b[1;31mKeyError\u001b[0m                                  Traceback (most recent call last)",
      "Cell \u001b[1;32mIn[9], line 4\u001b[0m\n\u001b[0;32m      1\u001b[0m \u001b[38;5;66;03m# %% [markdown]\u001b[39;00m\n\u001b[0;32m      3\u001b[0m df\u001b[38;5;241m.\u001b[39mreset_index(inplace\u001b[38;5;241m=\u001b[39m\u001b[38;5;28;01mTrue\u001b[39;00m)\n\u001b[1;32m----> 4\u001b[0m \u001b[43mdf\u001b[49m\u001b[38;5;241;43m.\u001b[39;49m\u001b[43mat\u001b[49m\u001b[43m[\u001b[49m\u001b[38;5;241;43m0\u001b[39;49m\u001b[43m,\u001b[49m\u001b[38;5;124;43m'\u001b[39;49m\u001b[38;5;124;43mName\u001b[39;49m\u001b[38;5;124;43m'\u001b[39;49m\u001b[43m]\u001b[49m  \u001b[38;5;66;03m# Get name of first record\u001b[39;00m\n\u001b[0;32m      5\u001b[0m df\u001b[38;5;241m.\u001b[39miat[\u001b[38;5;241m0\u001b[39m,\u001b[38;5;241m1\u001b[39m]     \u001b[38;5;66;03m# Get value at row 0, column 1\u001b[39;00m\n\u001b[0;32m      7\u001b[0m \u001b[38;5;66;03m# %% [markdown]\u001b[39;00m\n\u001b[0;32m      8\u001b[0m \u001b[38;5;66;03m### 3. Memory Optimization\u001b[39;00m\n",
      "File \u001b[1;32mc:\\Users\\Admin\\anaconda3\\envs\\alevel\\lib\\site-packages\\pandas\\core\\indexing.py:2419\u001b[0m, in \u001b[0;36m_AtIndexer.__getitem__\u001b[1;34m(self, key)\u001b[0m\n\u001b[0;32m   2416\u001b[0m         \u001b[38;5;28;01mraise\u001b[39;00m \u001b[38;5;167;01mValueError\u001b[39;00m(\u001b[38;5;124m\"\u001b[39m\u001b[38;5;124mInvalid call for scalar access (getting)!\u001b[39m\u001b[38;5;124m\"\u001b[39m)\n\u001b[0;32m   2417\u001b[0m     \u001b[38;5;28;01mreturn\u001b[39;00m \u001b[38;5;28mself\u001b[39m\u001b[38;5;241m.\u001b[39mobj\u001b[38;5;241m.\u001b[39mloc[key]\n\u001b[1;32m-> 2419\u001b[0m \u001b[38;5;28;01mreturn\u001b[39;00m \u001b[38;5;28;43msuper\u001b[39;49m\u001b[43m(\u001b[49m\u001b[43m)\u001b[49m\u001b[38;5;241;43m.\u001b[39;49m\u001b[38;5;21;43m__getitem__\u001b[39;49m\u001b[43m(\u001b[49m\u001b[43mkey\u001b[49m\u001b[43m)\u001b[49m\n",
      "File \u001b[1;32mc:\\Users\\Admin\\anaconda3\\envs\\alevel\\lib\\site-packages\\pandas\\core\\indexing.py:2371\u001b[0m, in \u001b[0;36m_ScalarAccessIndexer.__getitem__\u001b[1;34m(self, key)\u001b[0m\n\u001b[0;32m   2368\u001b[0m         \u001b[38;5;28;01mraise\u001b[39;00m \u001b[38;5;167;01mValueError\u001b[39;00m(\u001b[38;5;124m\"\u001b[39m\u001b[38;5;124mInvalid call for scalar access (getting)!\u001b[39m\u001b[38;5;124m\"\u001b[39m)\n\u001b[0;32m   2370\u001b[0m key \u001b[38;5;241m=\u001b[39m \u001b[38;5;28mself\u001b[39m\u001b[38;5;241m.\u001b[39m_convert_key(key)\n\u001b[1;32m-> 2371\u001b[0m \u001b[38;5;28;01mreturn\u001b[39;00m \u001b[38;5;28;43mself\u001b[39;49m\u001b[38;5;241;43m.\u001b[39;49m\u001b[43mobj\u001b[49m\u001b[38;5;241;43m.\u001b[39;49m\u001b[43m_get_value\u001b[49m\u001b[43m(\u001b[49m\u001b[38;5;241;43m*\u001b[39;49m\u001b[43mkey\u001b[49m\u001b[43m,\u001b[49m\u001b[43m \u001b[49m\u001b[43mtakeable\u001b[49m\u001b[38;5;241;43m=\u001b[39;49m\u001b[38;5;28;43mself\u001b[39;49m\u001b[38;5;241;43m.\u001b[39;49m\u001b[43m_takeable\u001b[49m\u001b[43m)\u001b[49m\n",
      "File \u001b[1;32mc:\\Users\\Admin\\anaconda3\\envs\\alevel\\lib\\site-packages\\pandas\\core\\frame.py:3870\u001b[0m, in \u001b[0;36mDataFrame._get_value\u001b[1;34m(self, index, col, takeable)\u001b[0m\n\u001b[0;32m   3867\u001b[0m     series \u001b[38;5;241m=\u001b[39m \u001b[38;5;28mself\u001b[39m\u001b[38;5;241m.\u001b[39m_ixs(col, axis\u001b[38;5;241m=\u001b[39m\u001b[38;5;241m1\u001b[39m)\n\u001b[0;32m   3868\u001b[0m     \u001b[38;5;28;01mreturn\u001b[39;00m series\u001b[38;5;241m.\u001b[39m_values[index]\n\u001b[1;32m-> 3870\u001b[0m series \u001b[38;5;241m=\u001b[39m \u001b[38;5;28;43mself\u001b[39;49m\u001b[38;5;241;43m.\u001b[39;49m\u001b[43m_get_item_cache\u001b[49m\u001b[43m(\u001b[49m\u001b[43mcol\u001b[49m\u001b[43m)\u001b[49m\n\u001b[0;32m   3871\u001b[0m engine \u001b[38;5;241m=\u001b[39m \u001b[38;5;28mself\u001b[39m\u001b[38;5;241m.\u001b[39mindex\u001b[38;5;241m.\u001b[39m_engine\n\u001b[0;32m   3873\u001b[0m \u001b[38;5;28;01mif\u001b[39;00m \u001b[38;5;129;01mnot\u001b[39;00m \u001b[38;5;28misinstance\u001b[39m(\u001b[38;5;28mself\u001b[39m\u001b[38;5;241m.\u001b[39mindex, MultiIndex):\n\u001b[0;32m   3874\u001b[0m     \u001b[38;5;66;03m# CategoricalIndex: Trying to use the engine fastpath may give incorrect\u001b[39;00m\n\u001b[0;32m   3875\u001b[0m     \u001b[38;5;66;03m#  results if our categories are integers that dont match our codes\u001b[39;00m\n\u001b[0;32m   3876\u001b[0m     \u001b[38;5;66;03m# IntervalIndex: IntervalTree has no get_loc\u001b[39;00m\n",
      "File \u001b[1;32mc:\\Users\\Admin\\anaconda3\\envs\\alevel\\lib\\site-packages\\pandas\\core\\frame.py:4255\u001b[0m, in \u001b[0;36mDataFrame._get_item_cache\u001b[1;34m(self, item)\u001b[0m\n\u001b[0;32m   4250\u001b[0m res \u001b[38;5;241m=\u001b[39m cache\u001b[38;5;241m.\u001b[39mget(item)\n\u001b[0;32m   4251\u001b[0m \u001b[38;5;28;01mif\u001b[39;00m res \u001b[38;5;129;01mis\u001b[39;00m \u001b[38;5;28;01mNone\u001b[39;00m:\n\u001b[0;32m   4252\u001b[0m     \u001b[38;5;66;03m# All places that call _get_item_cache have unique columns,\u001b[39;00m\n\u001b[0;32m   4253\u001b[0m     \u001b[38;5;66;03m#  pending resolution of GH#33047\u001b[39;00m\n\u001b[1;32m-> 4255\u001b[0m     loc \u001b[38;5;241m=\u001b[39m \u001b[38;5;28;43mself\u001b[39;49m\u001b[38;5;241;43m.\u001b[39;49m\u001b[43mcolumns\u001b[49m\u001b[38;5;241;43m.\u001b[39;49m\u001b[43mget_loc\u001b[49m\u001b[43m(\u001b[49m\u001b[43mitem\u001b[49m\u001b[43m)\u001b[49m\n\u001b[0;32m   4256\u001b[0m     res \u001b[38;5;241m=\u001b[39m \u001b[38;5;28mself\u001b[39m\u001b[38;5;241m.\u001b[39m_ixs(loc, axis\u001b[38;5;241m=\u001b[39m\u001b[38;5;241m1\u001b[39m)\n\u001b[0;32m   4258\u001b[0m     cache[item] \u001b[38;5;241m=\u001b[39m res\n",
      "File \u001b[1;32mc:\\Users\\Admin\\anaconda3\\envs\\alevel\\lib\\site-packages\\pandas\\core\\indexes\\base.py:3655\u001b[0m, in \u001b[0;36mIndex.get_loc\u001b[1;34m(self, key)\u001b[0m\n\u001b[0;32m   3653\u001b[0m     \u001b[38;5;28;01mreturn\u001b[39;00m \u001b[38;5;28mself\u001b[39m\u001b[38;5;241m.\u001b[39m_engine\u001b[38;5;241m.\u001b[39mget_loc(casted_key)\n\u001b[0;32m   3654\u001b[0m \u001b[38;5;28;01mexcept\u001b[39;00m \u001b[38;5;167;01mKeyError\u001b[39;00m \u001b[38;5;28;01mas\u001b[39;00m err:\n\u001b[1;32m-> 3655\u001b[0m     \u001b[38;5;28;01mraise\u001b[39;00m \u001b[38;5;167;01mKeyError\u001b[39;00m(key) \u001b[38;5;28;01mfrom\u001b[39;00m \u001b[38;5;21;01merr\u001b[39;00m\n\u001b[0;32m   3656\u001b[0m \u001b[38;5;28;01mexcept\u001b[39;00m \u001b[38;5;167;01mTypeError\u001b[39;00m:\n\u001b[0;32m   3657\u001b[0m     \u001b[38;5;66;03m# If we have a listlike key, _check_indexing_error will raise\u001b[39;00m\n\u001b[0;32m   3658\u001b[0m     \u001b[38;5;66;03m#  InvalidIndexError. Otherwise we fall through and re-raise\u001b[39;00m\n\u001b[0;32m   3659\u001b[0m     \u001b[38;5;66;03m#  the TypeError.\u001b[39;00m\n\u001b[0;32m   3660\u001b[0m     \u001b[38;5;28mself\u001b[39m\u001b[38;5;241m.\u001b[39m_check_indexing_error(key)\n",
      "\u001b[1;31mKeyError\u001b[0m: 'Name'"
     ]
    }
   ],
   "source": [
    "\n",
    "\n",
    "# %% [markdown]\n",
    "\n",
    "\n",
    "\n",
    "# %% [markdown]\n",
    "\n",
    "df['Gender'] = df['Gender'].astype('category')\n",
    "df['Age'] = pd.to_numeric(df['Age'], downcast='integer')\n",
    "\n",
    "# %% [markdown]\n",
    "### 4. Large File Processing\n",
    "'''\n",
    "- Process huge files in manageable chunks\n",
    "- Prevents memory overload\n",
    "'''\n",
    "for chunk in pd.read_csv('big_file.csv', chunksize=10000):\n",
    "    process(chunk)  # Your processing function\n",
    "\n",
    "# %% [markdown]\n",
    "### 5. Query Method\n",
    "'''\n",
    "- SQL-like filtering syntax\n",
    "- Cleaner than boolean indexing for complex conditions\n",
    "'''\n",
    "df.query('Age > 30 & Gender == \"Male\"')\n",
    "\n",
    "# %% [markdown]\n",
    "### 6. Missing Data Handling\n",
    "'''\n",
    "- interpolate(): Estimate missing values\n",
    "- ffill/bfill: Forward/backward fill\n",
    "- mean(): Fill with column average\n",
    "'''\n",
    "df['Age'].interpolate(method='linear')\n",
    "df.fillna(method='ffill')  # Forward fill\n",
    "\n",
    "# %% [markdown]\n",
    "### 7. Data Transformation\n",
    "'''\n",
    "- apply(): Element-wise operations\n",
    "- map(): Value remapping\n",
    "'''\n",
    "df['Income_K'] = df['Income'].apply(lambda x: x/1000)\n",
    "df['AgeGroup'] = df['Age'].map(lambda x: 'Adult' if x >=18 else 'Minor')\n",
    "\n",
    "# %% [markdown]\n",
    "### 8. Advanced Aggregation\n",
    "'''\n",
    "- Multiple aggregation functions in one operation\n",
    "- Custom statistics per column\n",
    "'''\n",
    "df.groupby('AgeGroup')['Income'].agg(['mean','max','min','std'])\n",
    "\n",
    "# %% [markdown]\n",
    "### 9. Reshaping Data\n",
    "'''\n",
    "- melt(): Convert wide to long format\n",
    "- pivot(): Convert long to wide format\n",
    "'''\n",
    "pd.melt(df, id_vars=['Name'], value_vars=['Age','Income'])\n",
    "df.pivot(index='Name', columns='variable', values='value')\n",
    "\n",
    "# %% [markdown]\n",
    "### 10. Window Operations\n",
    "'''\n",
    "- rolling(): Fixed-size moving windows\n",
    "- expanding(): Growing window calculations\n",
    "- shift(): Lagged values\n",
    "'''\n",
    "df['RollingMean'] = df['Value'].rolling(3).mean()\n",
    "df['ExpandingSum'] = df['Value'].expanding().sum()\n",
    "df['Lag1'] = df['Value'].shift(1)\n",
    "\n",
    "# %% [markdown]\n",
    "### 11. Display Options\n",
    "'''\n",
    "- Control DataFrame display settings\n",
    "- Adjust max rows/columns and float formatting\n",
    "'''\n",
    "pd.set_option('display.max_rows', 100)\n",
    "pd.set_option('display.float_format', '{:.2f}'.format)\n",
    "\n",
    "# %% [markdown]\n",
    "### 12. Time Zone Handling\n",
    "'''\n",
    "- Localize naive timestamps\n",
    "- Convert between time zones\n",
    "'''\n",
    "df.index = df.index.tz_localize('UTC').tz_convert('Asia/Kolkata')"
   ]
  },
  {
   "cell_type": "code",
   "execution_count": null,
   "id": "8f8ab8f3",
   "metadata": {},
   "outputs": [],
   "source": []
  }
 ],
 "metadata": {
  "kernelspec": {
   "display_name": "alevel",
   "language": "python",
   "name": "python3"
  },
  "language_info": {
   "codemirror_mode": {
    "name": "ipython",
    "version": 3
   },
   "file_extension": ".py",
   "mimetype": "text/x-python",
   "name": "python",
   "nbconvert_exporter": "python",
   "pygments_lexer": "ipython3",
   "version": "3.8.18"
  }
 },
 "nbformat": 4,
 "nbformat_minor": 5
}
