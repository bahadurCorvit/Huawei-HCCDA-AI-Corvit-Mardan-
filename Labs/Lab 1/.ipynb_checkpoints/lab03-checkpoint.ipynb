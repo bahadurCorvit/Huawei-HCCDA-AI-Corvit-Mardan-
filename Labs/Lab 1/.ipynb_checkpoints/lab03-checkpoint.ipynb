{
 "cells": [
  {
   "cell_type": "markdown",
   "metadata": {},
   "source": [
    "# **Lab Activities**:\n",
    "\n",
    "### **1. Introduction to Loops in Python**\n",
    "\n",
    "### **Task**:\n",
    "1. Write two programs:\n",
    "   - One using a `while` loop to print numbers from 1 to 10.\n",
    "   - One using a `for` loop to print numbers from 1 to 10.\n",
    "\n",
    "---"
   ]
  },
  {
   "cell_type": "code",
   "execution_count": 2,
   "metadata": {},
   "outputs": [
    {
     "name": "stdout",
     "output_type": "stream",
     "text": [
      "10\n",
      "Now break will execute\n",
      "1\n",
      "10\n",
      "Now break will execute\n",
      "2\n",
      "10\n",
      "20\n",
      "30\n",
      "Now break will execute\n",
      "3\n",
      "10\n",
      "20\n",
      "Now break will execute\n",
      "4\n",
      "10\n",
      "Now break will execute\n",
      "5\n",
      "The while condition became false now whatsapp\n"
     ]
    }
   ],
   "source": [
    "# Task 1: Using while loop\n",
    "i = 1\n",
    "while i <= 5:\n",
    "    j=10\n",
    "    while j<=30:\n",
    "        print(j)\n",
    "        if j%i==0:\n",
    "            print(\"Now break will execute\")\n",
    "            break   \n",
    "        j=j+10    \n",
    "    print(i)\n",
    "    i=i+1 #i+=i\n",
    "else:\n",
    "    print(\"The while condition became false now whatsapp\")\n",
    "\n",
    "\n"
   ]
  },
  {
   "cell_type": "code",
   "execution_count": null,
   "metadata": {},
   "outputs": [],
   "source": [
    ":\n",
    "    while i==3:\n",
    "        print(\"Break statment executed\")\n",
    "        break\n",
    "        print(\"The statement after break\")\n",
    "    print(i)\n",
    "    i=i+1 #i+=i\n",
    "\n",
    "else:\n",
    "    print(\"The while condition became false now whatsapp\")\n",
    "\n",
    "\n"
   ]
  },
  {
   "cell_type": "code",
   "execution_count": null,
   "metadata": {},
   "outputs": [],
   "source": [
    ":\n",
    "    while i==3:\n",
    "        print(\"Break statment executed\")\n",
    "        break\n",
    "        print(\"The statement after break\")\n",
    "    print(i)\n",
    "    i=i+1 #i+=i\n",
    "\n",
    "else:\n",
    "    print(\"The while condition became false now whatsapp\")\n",
    "\n",
    "\n"
   ]
  },
  {
   "cell_type": "code",
   "execution_count": 5,
   "metadata": {},
   "outputs": [
    {
     "name": "stdout",
     "output_type": "stream",
     "text": [
      "9\n",
      "19\n",
      "29\n",
      "39\n",
      "49\n",
      "59\n",
      "69\n",
      "79\n",
      "89\n",
      "99\n"
     ]
    }
   ],
   "source": [
    "# Task 2: Using for loop\n",
    "for i in range(9, 101, 10):\n",
    "    print(i)"
   ]
  },
  {
   "cell_type": "markdown",
   "metadata": {},
   "source": [
    "### **2. Iterating with Python Loops**\n",
    "\n",
    "### **Task**:\n",
    "1. Iterate over a list of strings and print each string.\n",
    "2. Iterate over a dictionary and print each key-value pair.\n",
    "\n",
    "---"
   ]
  },
  {
   "cell_type": "code",
   "execution_count": 12,
   "metadata": {},
   "outputs": [
    {
     "name": "stdout",
     "output_type": "stream",
     "text": [
      "The fruit: apple lies on index 1\n",
      "The fruit: banana lies on index 2\n",
      "The fruit: cherry lies on index 3\n",
      "The fruit: Mango lies on index 4\n"
     ]
    }
   ],
   "source": [
    "# Task 1: Iterate over a list\n",
    "fruits = [\"apple\", \"banana\", \"cherry\", \"Mango\"]\n",
    "for index, fruit in enumerate(fruits):\n",
    "    print(f\"The fruit: {fruit} lies on index {index+1}\")"
   ]
  },
  {
   "cell_type": "code",
   "execution_count": 10,
   "metadata": {},
   "outputs": [
    {
     "data": {
      "text/plain": [
       "'Mango'"
      ]
     },
     "execution_count": 10,
     "metadata": {},
     "output_type": "execute_result"
    }
   ],
   "source": [
    "fruit"
   ]
  },
  {
   "cell_type": "code",
   "execution_count": 23,
   "metadata": {},
   "outputs": [
    {
     "data": {
      "text/plain": [
       "'Mango'"
      ]
     },
     "execution_count": 23,
     "metadata": {},
     "output_type": "execute_result"
    }
   ],
   "source": [
    "fruits = [\"apple\", \"banana\", \"cherry\", 23, 4.5]\n",
    "fruits[0]=\"Mango\"\n",
    "fruits[0]"
   ]
  },
  {
   "cell_type": "code",
   "execution_count": 20,
   "metadata": {},
   "outputs": [
    {
     "name": "stdout",
     "output_type": "stream",
     "text": [
      "0\n",
      "2\n",
      "4\n",
      "1\n",
      "0\n",
      "3\n",
      "End of both loop\n"
     ]
    }
   ],
   "source": [
    "for i in range(1, 5, 2):\n",
    "    for j in range(0, 5, 2):\n",
    "        print(j)\n",
    "        if i==3 or j==3:\n",
    "            break\n",
    "    print(i)\n",
    "print(\"End of both loop\")"
   ]
  },
  {
   "cell_type": "code",
   "execution_count": 26,
   "metadata": {},
   "outputs": [],
   "source": [
    "stundent=[]\n",
    "\n",
    "number=int(input(\"The number of total students : \"))\n",
    "\n",
    "for i in range(number):\n",
    "    name=input(\"Enter student name: \")\n",
    "    age=int(input(\"Enter age : \"))\n",
    "    gpa=float(input(\"Enter GPA : \"))\n",
    "    stundent.append([name, age, gpa])\n",
    "\n"
   ]
  },
  {
   "cell_type": "code",
   "execution_count": 30,
   "metadata": {},
   "outputs": [
    {
     "data": {
      "text/plain": [
       "'Kamal'"
      ]
     },
     "execution_count": 30,
     "metadata": {},
     "output_type": "execute_result"
    }
   ],
   "source": [
    "stundent[2][0]"
   ]
  },
  {
   "cell_type": "code",
   "execution_count": 28,
   "metadata": {},
   "outputs": [
    {
     "name": "stdout",
     "output_type": "stream",
     "text": [
      "name   : Kamal\n",
      "age   : 23\n",
      "city   : Peshawar\n",
      "semester   : 5\n",
      "weight   : 74\n"
     ]
    }
   ],
   "source": [
    "# Task 2: Iterate over a dictionary\n",
    "person = {\"name\": \"Kamal\", \"age\": 23, \"city\": \"Peshawar\", \"semester\": 5, \"weight\": 74}\n",
    "\n",
    "for k, v in person.items():\n",
    "    print(f\"{k}   : {v}\")\n",
    "\n"
   ]
  },
  {
   "cell_type": "code",
   "execution_count": null,
   "metadata": {},
   "outputs": [],
   "source": []
  },
  {
   "cell_type": "code",
   "execution_count": 27,
   "metadata": {},
   "outputs": [
    {
     "name": "stdout",
     "output_type": "stream",
     "text": [
      "This is the key: name:and its valu: Kamal\n",
      "This is the key: age:and its valu: 23\n",
      "This is the key: city:and its valu: Peshawar\n",
      "This is the key: semester:and its valu: 5\n",
      "This is the key: weight:and its valu: 74\n"
     ]
    }
   ],
   "source": [
    "for key, value in person.items():\n",
    "    print(f\"This is the key: {key}:and its valu: {value}\")"
   ]
  },
  {
   "cell_type": "markdown",
   "metadata": {},
   "source": [
    "## **zip in loops**\n",
    "### Combines multiple iterables and iterates over them in parallel."
   ]
  },
  {
   "cell_type": "code",
   "execution_count": 24,
   "metadata": {},
   "outputs": [
    {
     "name": "stdout",
     "output_type": "stream",
     "text": [
      "Alice is 25 years old and his weight is 70\n",
      "Bob is 30 years old and his weight is 73\n",
      "Charlie is 35 years old and his weight is 76\n",
      "Ali is 22 years old and his weight is 66\n"
     ]
    }
   ],
   "source": [
    "names = ['Alice', 'Bob', 'Charlie', 'Ali']\n",
    "ages = [25, 30, 35, 22, 23]\n",
    "weight=(70, 73, 76, 66, 80)\n",
    "for name, age, w in zip(names, ages, weight):\n",
    "    print(f\"{name} is {age} years old and his weight is {w}\")\n"
   ]
  },
  {
   "cell_type": "code",
   "execution_count": 8,
   "metadata": {},
   "outputs": [],
   "source": [
    "Students=[]\n",
    "numofstudents=int(input(\"For how many students you want to enter data\"))\n",
    "\n",
    "for i in range(1, numofstudents+1):\n",
    "    name=input(f\"Enter Student# {i} Name :\")\n",
    "    age=int(input(f\"Enter Student# {i} Age :\"))\n",
    "    gender=input(f\"Enter Student# {i} gender :\")\n",
    "    sem=input(f\"Enter Student# {i} semester :\")\n",
    "    cgpa=float(input(f\"Enter Student# {i} CGPA :\"))\n",
    "    Students.append([name, age, gender, sem, cgpa])\n",
    "\n"
   ]
  },
  {
   "cell_type": "code",
   "execution_count": 43,
   "metadata": {},
   "outputs": [],
   "source": [
    "SecBstds=[]\n",
    "numofstd=int(input(\"For How many students you want to punch data: \"))\n",
    "\n",
    "for i in range(1, numofstd+1):\n",
    "    name=input(f\"Enter Student's# {i} Name: \")\n",
    "    age=input(\"Enter Student's age: \")\n",
    "    Address=input(\"Enter Student's Address: \")\n",
    "    cgpa=input(\"Enter Student's CGPA: \")\n",
    "    gender=input(\"Enter Student's Gender: \")\n",
    "    SecBstds.append([name, age, Address, cgpa, gender])\n",
    "\n"
   ]
  },
  {
   "cell_type": "code",
   "execution_count": 44,
   "metadata": {},
   "outputs": [
    {
     "data": {
      "text/plain": [
       "[['Asma', '21', 'Hayatabad', '3.2', 'female'],\n",
       " ['Uzma', '21', 'Peshawar', '3.4', 'female'],\n",
       " ['Asad', '23', 'peshawar', '3.5', 'male']]"
      ]
     },
     "execution_count": 44,
     "metadata": {},
     "output_type": "execute_result"
    }
   ],
   "source": [
    "SecBstds"
   ]
  },
  {
   "cell_type": "code",
   "execution_count": 46,
   "metadata": {},
   "outputs": [
    {
     "name": "stdout",
     "output_type": "stream",
     "text": [
      "2\n"
     ]
    }
   ],
   "source": [
    "#rc=input(\"Enter the name you want to search\")\n",
    "fstd=0\n",
    "for i in range(numofstd):\n",
    "    if SecBstds[i][4].lower()==\"female\":\n",
    "        fstd=fstd+1\n",
    "        \n",
    "        \n",
    "print(fstd)"
   ]
  },
  {
   "cell_type": "code",
   "execution_count": 11,
   "metadata": {},
   "outputs": [
    {
     "data": {
      "text/plain": [
       "3"
      ]
     },
     "execution_count": 11,
     "metadata": {},
     "output_type": "execute_result"
    }
   ],
   "source": []
  },
  {
   "cell_type": "code",
   "execution_count": 46,
   "metadata": {},
   "outputs": [
    {
     "data": {
      "text/plain": [
       "[['Asad', '22', 'Male', '5', '3.4'],\n",
       " ['Asma', '22', 'Female', '5', '3.5'],\n",
       " ['Jawad', '24', 'Male', '5', '3.7'],\n",
       " ['Fawad', '26', 'male', '5', '3.5'],\n",
       " ['Irfan', '34', 'male', '5', '3.7']]"
      ]
     },
     "execution_count": 46,
     "metadata": {},
     "output_type": "execute_result"
    }
   ],
   "source": [
    "Students"
   ]
  },
  {
   "cell_type": "markdown",
   "metadata": {},
   "source": [
    "### **3. The `while` Loop**\n",
    "\n",
    "### **Task**:\n",
    "1. Write a program that keeps asking the user for input until they enter the word `\"stop\"`.\n",
    "\n",
    "---"
   ]
  },
  {
   "cell_type": "code",
   "execution_count": 47,
   "metadata": {},
   "outputs": [
    {
     "name": "stdout",
     "output_type": "stream",
     "text": [
      "You entered: hello\n",
      "You entered: hi\n",
      "You entered: exit\n"
     ]
    }
   ],
   "source": [
    "# Task: Use while loop to accept input until \"stop\" is entered\n",
    "user_input = \"\"\n",
    "while user_input.lower()!= \"exit\":\n",
    "    user_input = input(\"Enter something (type 'exit' to end): \")\n",
    "    print(\"You entered:\", user_input)\n"
   ]
  },
  {
   "cell_type": "markdown",
   "metadata": {},
   "source": [
    "### **4. The `for` Loop**\n",
    "\n",
    "### **Task**:\n",
    "1. Write a program that iterates over the letters in a string and prints each letter on a new line.\n",
    "\n",
    "---"
   ]
  },
  {
   "cell_type": "code",
   "execution_count": 54,
   "metadata": {},
   "outputs": [
    {
     "name": "stdout",
     "output_type": "stream",
     "text": [
      "C++\n",
      "Java\n",
      "C#\n"
     ]
    }
   ],
   "source": [
    "# Task: Iterate over letters in a string\n",
    "word = [\"Python\", \"C++\", \"Java\", \"C#\" ]\n",
    "for i in range(1,len(word)):\n",
    "    print(word[i])\n"
   ]
  },
  {
   "cell_type": "markdown",
   "metadata": {},
   "source": [
    "### **5. The `range()` Function**\n",
    "\n",
    "### **Task**:\n",
    "1. Use `range()` to print all even numbers between 2 and 20.\n",
    "2. Use `range()` to print numbers in reverse from 10 to 1.\n",
    "\n",
    "---"
   ]
  },
  {
   "cell_type": "code",
   "execution_count": 5,
   "metadata": {},
   "outputs": [
    {
     "name": "stdout",
     "output_type": "stream",
     "text": [
      "2\n",
      "4\n",
      "6\n",
      "8\n",
      "10\n",
      "12\n",
      "14\n",
      "16\n",
      "18\n",
      "20\n",
      "10\n",
      "9\n",
      "8\n",
      "7\n",
      "6\n",
      "5\n",
      "4\n",
      "3\n",
      "2\n",
      "1\n"
     ]
    }
   ],
   "source": [
    "# Task 1: Print even numbers between 2 and 20\n",
    "for i in range(1,21, 2):\n",
    "    print(i)\n",
    "\n",
    "# Task 2: Print numbers in reverse from 10 to 1\n",
    "for i in range(10, 0, -1):\n",
    "    print(i)\n"
   ]
  },
  {
   "cell_type": "markdown",
   "metadata": {},
   "source": [
    "### **6. The `break` Statement**\n",
    "\n",
    "### **Task**:\n",
    "1. Write a program that loops from 1 to 10 but stops the loop when the number is equal to 5.\n",
    "\n",
    "---"
   ]
  },
  {
   "cell_type": "code",
   "execution_count": 6,
   "metadata": {},
   "outputs": [
    {
     "name": "stdout",
     "output_type": "stream",
     "text": [
      "1\n",
      "2\n",
      "3\n",
      "4\n"
     ]
    }
   ],
   "source": [
    "# Task: Use break to stop the loop when i is 5\n",
    "for i in range(1, 11):\n",
    "    if i == 5:\n",
    "        break\n",
    "    print(i)\n"
   ]
  },
  {
   "cell_type": "markdown",
   "metadata": {},
   "source": [
    "# **for loop with enumerate**\n",
    "## Useful when you need both the index and the value while iterating."
   ]
  },
  {
   "cell_type": "code",
   "execution_count": 51,
   "metadata": {},
   "outputs": [
    {
     "name": "stdout",
     "output_type": "stream",
     "text": [
      "0 apple\n",
      "1 banana\n",
      "2 cherry\n"
     ]
    }
   ],
   "source": [
    "items = ['apple', 'banana', 'cherry']\n",
    "for index, item in enumerate(items):\n",
    "    print(index, item)\n"
   ]
  },
  {
   "cell_type": "code",
   "execution_count": 52,
   "metadata": {},
   "outputs": [
    {
     "data": {
      "text/plain": [
       "'apple'"
      ]
     },
     "execution_count": 52,
     "metadata": {},
     "output_type": "execute_result"
    }
   ],
   "source": [
    "items[0]"
   ]
  },
  {
   "cell_type": "code",
   "execution_count": null,
   "metadata": {},
   "outputs": [],
   "source": [
    "count = 0\n",
    "while True:\n",
    "    print(count)\n",
    "    count += 1\n",
    "    if count == 3:\n",
    "        break\n"
   ]
  },
  {
   "cell_type": "markdown",
   "metadata": {},
   "source": [
    "### **7. The `continue` Statement**\n",
    "\n",
    "### **Task**:\n",
    "1. Write a program that loops from 1 to 10 but skips the number 5 using `continue`.\n",
    "\n",
    "---"
   ]
  },
  {
   "cell_type": "code",
   "execution_count": 4,
   "metadata": {},
   "outputs": [
    {
     "name": "stdout",
     "output_type": "stream",
     "text": [
      "1\n",
      "2\n",
      "3\n",
      "4\n",
      "5\n",
      "6\n",
      "7\n",
      "8\n",
      "9\n",
      "10\n"
     ]
    }
   ],
   "source": [
    "# Task: Use continue to skip the number 5\n",
    "for i in range(1, 11):\n",
    "    if i == 5:\n",
    "        continue\n",
    "    print(i)\n"
   ]
  },
  {
   "cell_type": "markdown",
   "metadata": {},
   "source": [
    "### **8. The `pass` Statement**\n",
    "\n",
    "### **Task**:\n",
    "1. Write a program that loops through numbers from 1 to 5, but does nothing for numbers less than 3.\n"
   ]
  },
  {
   "cell_type": "code",
   "execution_count": 9,
   "metadata": {},
   "outputs": [],
   "source": [
    "# Task: Use pass for numbers less than 3\n",
    "for i in range(1, 6):\n",
    "    if i < 3:\n",
    "        pass\n",
    "    else:\n",
    "        print(i)\n",
    "    #print(i)\n"
   ]
  },
  {
   "cell_type": "markdown",
   "metadata": {},
   "source": [
    "---\n",
    "List Comprehension\n",
    "---"
   ]
  },
  {
   "cell_type": "code",
   "execution_count": 22,
   "metadata": {},
   "outputs": [
    {
     "data": {
      "text/plain": [
       "[1, 4, 9, 16, 25, 36, 49, 64, 81]"
      ]
     },
     "execution_count": 22,
     "metadata": {},
     "output_type": "execute_result"
    }
   ],
   "source": [
    "a = [i**2 for i in range(1, 10)]\n",
    "a"
   ]
  },
  {
   "cell_type": "code",
   "execution_count": null,
   "metadata": {},
   "outputs": [],
   "source": [
    "squares = [i * 2 for i in range(5)]\n",
    "print(squares)"
   ]
  },
  {
   "cell_type": "code",
   "execution_count": 55,
   "metadata": {},
   "outputs": [
    {
     "data": {
      "text/plain": [
       "[1, 4, 9, 16, 25, 36, 49, 64, 81]"
      ]
     },
     "execution_count": 55,
     "metadata": {},
     "output_type": "execute_result"
    }
   ],
   "source": [
    "a = []\n",
    "for i in range(1, 10):\n",
    "    a.append(i**2)\n",
    "a"
   ]
  },
  {
   "cell_type": "markdown",
   "metadata": {},
   "source": [
    "---\n",
    "# **Nest Loop**\n",
    "---"
   ]
  },
  {
   "cell_type": "code",
   "execution_count": null,
   "metadata": {},
   "outputs": [],
   "source": [
    "for i in range(3):\n",
    "    for j in range(2):\n",
    "        print(f\"i = {i}, j = {j}\")\n"
   ]
  },
  {
   "cell_type": "markdown",
   "metadata": {},
   "source": [
    "### **Lab Conclusion**\n",
    "\n",
    "In this lab, we explored various loop structures and control statements in Python, including:\n",
    "\n",
    "1. **Loop Structures**: \n",
    "   - Using `while` and `for` loops for iteration.\n",
    "   - Iterating through lists and dictionaries.\n",
    "\n",
    "2. **Control Statements**:\n",
    "   - Managing loop flow with `break`, `continue`, and `pass`.\n",
    "\n",
    "3. **Built-in Functions**:\n",
    "   - Utilizing `range()` for efficient iteration.\n",
    "\n",
    "\n",
    "By completing these tasks, you now have a foundational understanding of Python loops and control statements, essential for processing and managing data effectively.\n"
   ]
  }
 ],
 "metadata": {
  "kernelspec": {
   "display_name": "Python 3 (ipykernel)",
   "language": "python",
   "name": "python3"
  },
  "language_info": {
   "codemirror_mode": {
    "name": "ipython",
    "version": 3
   },
   "file_extension": ".py",
   "mimetype": "text/x-python",
   "name": "python",
   "nbconvert_exporter": "python",
   "pygments_lexer": "ipython3",
   "version": "3.8.18"
  }
 },
 "nbformat": 4,
 "nbformat_minor": 2
}
