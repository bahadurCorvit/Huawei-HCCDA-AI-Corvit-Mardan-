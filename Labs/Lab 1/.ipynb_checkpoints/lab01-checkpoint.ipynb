{
 "cells": [
  {
   "cell_type": "markdown",
   "metadata": {},
   "source": [
    "# **Lab Activities**:\n",
    "### **1. Writing Your First Python Program**\n",
    "### **Task**:\n",
    "\n",
    "1. Write a simple Python program that prints `\"Hello, World!\"` to the console.\n",
    "\n",
    "---\n"
   ]
  },
  {
   "cell_type": "code",
   "execution_count": 3,
   "metadata": {},
   "outputs": [
    {
     "name": "stdout",
     "output_type": "stream",
     "text": [
      "Hello, World!\n"
     ]
    }
   ],
   "source": [
    "# Code:\n",
    "print(\"Hello, World!\")"
   ]
  },
  {
   "cell_type": "code",
   "execution_count": 4,
   "metadata": {},
   "outputs": [],
   "source": [
    "opt=\"-\"\n",
    "if opt==\"+\":\n",
    "    print(\"Summation\")"
   ]
  },
  {
   "cell_type": "markdown",
   "metadata": {},
   "source": [
    "### **2. Working with Variables and Data Types**\n",
    "### **Task**:\n",
    "\n",
    "1. Create variables to store the following information:\n",
    "   - Your name\n",
    "   - Your age\n",
    "   - Your height\n",
    "2. Print each of these variables.\n",
    "\n",
    "---\n"
   ]
  },
  {
   "cell_type": "code",
   "execution_count": 11,
   "metadata": {},
   "outputs": [
    {
     "name": "stdout",
     "output_type": "stream",
     "text": [
      "Hello my name is ahmad, I am 20 years old and I am studying in 5 semester!\n"
     ]
    }
   ],
   "source": [
    "name = input(\"Enter your name: \")\n",
    "age = int(input(\"Enter your age: \"))\n",
    "semester= input(\"Enter your current semester\")\n",
    "\n",
    "print(f\"Hello my name is {name}, I am {age} years old and I am studying in {semester} semester!\")"
   ]
  },
  {
   "cell_type": "code",
   "execution_count": 12,
   "metadata": {},
   "outputs": [
    {
     "data": {
      "text/plain": [
       "int"
      ]
     },
     "execution_count": 12,
     "metadata": {},
     "output_type": "execute_result"
    }
   ],
   "source": [
    "type(age)"
   ]
  },
  {
   "cell_type": "markdown",
   "metadata": {},
   "source": [
    "### **2. Working with Variables and Data Types**\n",
    "### **Task**:\n",
    "\n",
    "1. Create variables to store the following information:\n",
    "   - Your name\n",
    "   - Your age\n",
    "   - Your height\n",
    "2. Print each of these variables.\n",
    "\n",
    "---\n"
   ]
  },
  {
   "cell_type": "code",
   "execution_count": 3,
   "metadata": {},
   "outputs": [
    {
     "name": "stdout",
     "output_type": "stream",
     "text": [
      "My name is Asad Khan, I am 25 years old, and my height is 5.9 feet.\n"
     ]
    }
   ],
   "source": [
    "# Code:\n",
    "name = input(\"Enter your Name\")\n",
    "age = 25\n",
    "height = 5.9\n",
    "\n",
    "print(f\"My name is {name}, I am {age} years old, and my height is {height} feet.\")\n"
   ]
  },
  {
   "cell_type": "code",
   "execution_count": 4,
   "metadata": {},
   "outputs": [
    {
     "data": {
      "text/plain": [
       "4.0"
      ]
     },
     "execution_count": 4,
     "metadata": {},
     "output_type": "execute_result"
    },
    {
     "ename": "",
     "evalue": "",
     "output_type": "error",
     "traceback": [
      "\u001b[1;31mThe Kernel crashed while executing code in the current cell or a previous cell. \n",
      "\u001b[1;31mPlease review the code in the cell(s) to identify a possible cause of the failure. \n",
      "\u001b[1;31mClick <a href='https://aka.ms/vscodeJupyterKernelCrash'>here</a> for more info. \n",
      "\u001b[1;31mView Jupyter <a href='command:jupyter.viewOutput'>log</a> for further details."
     ]
    }
   ],
   "source": [
    "2+2-4*2+8/2-1+5"
   ]
  },
  {
   "cell_type": "markdown",
   "metadata": {},
   "source": [
    "### **3.Basic Arithmetic Operations**\n",
    "### **Task**:\n",
    "\n",
    "1. Perform basic arithmetic operations: \n",
    "   - Addition\n",
    "   - Subtraction\n",
    "   - Multiplication\n",
    "   - Division \n",
    "\n",
    "   on two numbers of your choice.\n"
   ]
  },
  {
   "cell_type": "code",
   "execution_count": 15,
   "metadata": {},
   "outputs": [
    {
     "name": "stdout",
     "output_type": "stream",
     "text": [
      "Addition: 15\n",
      "Subtraction: 5\n",
      "Multiplication: 50\n",
      "Division: 2.0\n"
     ]
    }
   ],
   "source": [
    "# Code:\n",
    "num1 = 10\n",
    "num2 = 5\n",
    "\n",
    "print(\"Addition:\", num1 + num2)\n",
    "print(\"Subtraction:\", num1 - num2)\n",
    "print(\"Multiplication:\", num1 * num2)\n",
    "print(\"Division:\", num1 / num2)\n"
   ]
  },
  {
   "cell_type": "code",
   "execution_count": 16,
   "metadata": {},
   "outputs": [
    {
     "data": {
      "text/plain": [
       "int"
      ]
     },
     "execution_count": 16,
     "metadata": {},
     "output_type": "execute_result"
    }
   ],
   "source": [
    "type(num1)"
   ]
  },
  {
   "cell_type": "markdown",
   "metadata": {},
   "source": [
    "# **Lab Work: Exploring Common Python Data Types**\n",
    "### **Objective**:\n",
    "- Understand and implement basic Python data types: `int`, `float`, `str`, `bool`, `list`, `tuple`, and `dict`.\n",
    "- Perform operations and manipulations on each data type through hands-on coding tasks.\n",
    "\n",
    "---\n"
   ]
  },
  {
   "cell_type": "markdown",
   "metadata": {},
   "source": [
    "# **Working with Integers (int)**\n",
    "# **Objective**: Understand how to work with integers and basic arithmetic operations.\n",
    "\n",
    "---\n",
    "\n",
    "### **Instructions**:\n",
    "\n",
    "1. Create two integer variables: `a = 10` and `b = 5`.\n",
    "2. Perform the following operations and print the results:\n",
    "   - Addition\n",
    "   - Subtraction\n",
    "   - Multiplication\n",
    "   - Integer division\n",
    "\n",
    "---\n"
   ]
  },
  {
   "cell_type": "code",
   "execution_count": 21,
   "metadata": {},
   "outputs": [
    {
     "name": "stdout",
     "output_type": "stream",
     "text": [
      "Addition: 2\n"
     ]
    }
   ],
   "source": [
    "a = 10\n",
    "b = 5\n",
    "sum = a // b\n",
    "print(\"Addition:\", sum)\n"
   ]
  },
  {
   "cell_type": "markdown",
   "metadata": {},
   "source": [
    "# **Working with Strings (`str`)**\n",
    "### **Objective**: Practice working with strings and string operations.\n",
    "\n",
    "---\n",
    "\n",
    "### **Instructions**:\n",
    "\n",
    "1. Create two string variables: `first_name = \"Alice\"` and `last_name = \"Johnson\"`.\n",
    "2. Concatenate them into a full name with a space in between.\n",
    "3. Convert the full name to uppercase and print it.\n",
    "4. Extract and print the first letter of `first_name` and the last letter of `last_name`.\n",
    "\n",
    "---\n"
   ]
  },
  {
   "cell_type": "code",
   "execution_count": 22,
   "metadata": {},
   "outputs": [
    {
     "name": "stdout",
     "output_type": "stream",
     "text": [
      "Full Name: Alice Johnson\n",
      "Uppercase Name: ALICE JOHNSON\n",
      "First letter: A\n",
      "Last letter: n\n",
      "Last letter: e\n"
     ]
    },
    {
     "ename": "",
     "evalue": "",
     "output_type": "error",
     "traceback": [
      "\u001b[1;31mThe Kernel crashed while executing code in the current cell or a previous cell. \n",
      "\u001b[1;31mPlease review the code in the cell(s) to identify a possible cause of the failure. \n",
      "\u001b[1;31mClick <a href='https://aka.ms/vscodeJupyterKernelCrash'>here</a> for more info. \n",
      "\u001b[1;31mView Jupyter <a href='command:jupyter.viewOutput'>log</a> for further details."
     ]
    }
   ],
   "source": [
    "first_name = \"Alice\"\n",
    "last_name = \"Johnson\"\n",
    "full_name = first_name + \" \" + last_name\n",
    "print(\"Full Name:\", full_name)\n",
    "print(\"Uppercase Name:\", full_name.upper())\n",
    "print(\"First letter:\", first_name[0])\n",
    "print(\"Last letter:\", last_name[-1])\n",
    "print(\"Last letter:\", first_name[-1])\n",
    "\n"
   ]
  },
  {
   "cell_type": "markdown",
   "metadata": {},
   "source": [
    "# **Working with Booleans (`bool`)**\n",
    "### **Objective**: Learn how to use boolean values in conditions.\n",
    "\n",
    "---\n",
    "\n",
    "### **Instructions**:\n",
    "\n",
    "1. Create two variables: `is_sunny = True` and `is_raining = False`.\n",
    "2. Use the `and` and `or` logical operators to check if it's both sunny and raining, or if it's either sunny or raining.\n",
    "3. Use an `if` statement to print `\"It's sunny!\"` if `is_sunny` is `True`.\n",
    "\n",
    "---\n"
   ]
  },
  {
   "cell_type": "code",
   "execution_count": 4,
   "metadata": {},
   "outputs": [
    {
     "name": "stdout",
     "output_type": "stream",
     "text": [
      "Weather condition met.\n"
     ]
    }
   ],
   "source": [
    "is_sunny = False \n",
    "is_raining = True\n",
    "\n",
    "if is_sunny and not is_raining:\n",
    "    print(\"It's a sunny day!\")\n",
    "\n",
    "if is_sunny or is_raining:\n",
    "    print(\"Weather condition .....\")\n"
   ]
  },
  {
   "cell_type": "markdown",
   "metadata": {},
   "source": [
    "markdown\n",
    "Copy code\n",
    "# **Working with Lists (`list`)**\n",
    "### **Objective**: Learn how to create, modify, and manipulate lists.\n",
    "\n",
    "1. A list is an ordered, mutable (changeable) collection of elements.\n",
    "2. It allows duplicates and can store elements of different data types.\n",
    "3. Lists are defined using square brackets [].\n",
    "---\n",
    "\n",
    "### **Instructions**:\n",
    "\n",
    "1. Create a list of five fruits: `fruits = [\"apple\", \"banana\", \"cherry\", \"orange\", \"grape\"]`.\n",
    "2. Add a new fruit to the list (`\"mango\"`).\n",
    "3. Remove `\"banana\"` from the list.\n",
    "4. Print the length of the list and all its elements.\n",
    "\n",
    "---"
   ]
  },
  {
   "cell_type": "code",
   "execution_count": 2,
   "metadata": {},
   "outputs": [
    {
     "name": "stdout",
     "output_type": "stream",
     "text": [
      "Number of fruits: 5\n",
      "Fruits: ['apple', 'cherry', 'orange', 'grape', 'mango']\n"
     ]
    }
   ],
   "source": [
    "fruits = [\"apple\", \"banana\", \"cherry\", \"orange\", \"grape\"]\n",
    "fruits.append(\"mango\")\n",
    "fruits.remove(\"banana\")\n",
    "print(\"Number of fruits:\", len(fruits))\n",
    "print(\"Fruits:\", fruits[:])\n"
   ]
  },
  {
   "cell_type": "markdown",
   "metadata": {},
   "source": [
    "# **Working with Tuples (`tuple`)**\n",
    "### **Objective**: Understand how to use tuples and access their elements.\n",
    "\n",
    "1. A tuple is an ordered, immutable collection of elements.\n",
    "2. Once a tuple is created, its values cannot be changed.\n",
    "3. Tuples are defined using parentheses ()\n",
    "\n",
    "---\n",
    "\n",
    "### **Instructions**:\n",
    "1. Create a tuple of 3 coordinates: `coordinates = (10.5, 25.3, 40.8)`.\n",
    "2. Print each coordinate on a new line.\n",
    "3. Attempt to modify one of the coordinates and observe the error (tuples are immutable)."
   ]
  },
  {
   "cell_type": "code",
   "execution_count": 5,
   "metadata": {},
   "outputs": [
    {
     "name": "stdout",
     "output_type": "stream",
     "text": [
      "X-coordinate: 10.5\n",
      "Y-coordinate: 25.3\n",
      "Z-coordinate: 40.8\n"
     ]
    }
   ],
   "source": [
    "coordinates = (10.5, 25.3, 40.8)\n",
    "print(\"X-coordinate:\", coordinates[0])\n",
    "print(\"Y-coordinate:\", coordinates[1])\n",
    "print(\"Z-coordinate:\", coordinates[2])\n",
    "\n",
    "# Uncomment the next line to see an error\n",
    "#coordinates[0] = 12.5\n"
   ]
  },
  {
   "cell_type": "markdown",
   "metadata": {},
   "source": [
    "# **Working with Dictionaries (dict)**\n",
    "# Objective: Create and manipulate a dictionary with key-value pairs.\n",
    "1. A dictionary is an unordered collection of key-value pairs.\n",
    "2. Keys must be unique and immutable (e.g., strings, numbers), while values can be of any type.\n",
    "3. Dictionaries are defined using curly braces {}.\n",
    "\n",
    "Instructions:\n",
    "\n",
    "Create a dictionary for a student's profile"
   ]
  },
  {
   "cell_type": "code",
   "execution_count": 7,
   "metadata": {},
   "outputs": [],
   "source": [
    "student = {\"name\": \"Alice\", \"age\": 22, \"major\": \"Computer Science\"}\n"
   ]
  },
  {
   "cell_type": "markdown",
   "metadata": {},
   "source": [
    "### **Task**:\n",
    "\n",
    "1. Add a new key-value pair for the student's GPA.\n",
    "2. Update the student's age to 23.\n",
    "3. Print the dictionary keys and values.\n",
    "4. Remove the key `major`.\n",
    "\n",
    "---\n"
   ]
  },
  {
   "cell_type": "code",
   "execution_count": 8,
   "metadata": {},
   "outputs": [
    {
     "name": "stdout",
     "output_type": "stream",
     "text": [
      "Student Profile: {'name': 'Alice', 'age': 23, 'major': 'Computer Science', 'GPA': 3.8}\n",
      "Keys: dict_keys(['name', 'age', 'major', 'GPA'])\n",
      "Values: dict_values(['Alice', 23, 'Computer Science', 3.8])\n",
      "Updated Profile: {'name': 'Alice', 'age': 23, 'GPA': 3.8}\n"
     ]
    }
   ],
   "source": [
    "student = {\"name\": \"Alice\", \"age\": 22, \"major\": \"Computer Science\"}\n",
    "student[\"GPA\"] = 3.8  # Add GPA\n",
    "student[\"age\"] = 23  # Update age\n",
    "print(\"Student Profile:\", student)\n",
    "print(\"Keys:\", student.keys())\n",
    "print(\"Values:\", student.values())\n",
    "del student[\"major\"]  # Remove 'major'\n",
    "print(\"Updated Profile:\", student)\n",
    "\n"
   ]
  },
  {
   "cell_type": "code",
   "execution_count": null,
   "metadata": {},
   "outputs": [],
   "source": []
  }
 ],
 "metadata": {
  "kernelspec": {
   "display_name": "Python 3 (ipykernel)",
   "language": "python",
   "name": "python3"
  },
  "language_info": {
   "codemirror_mode": {
    "name": "ipython",
    "version": 3
   },
   "file_extension": ".py",
   "mimetype": "text/x-python",
   "name": "python",
   "nbconvert_exporter": "python",
   "pygments_lexer": "ipython3",
   "version": "3.8.18"
  }
 },
 "nbformat": 4,
 "nbformat_minor": 2
}
