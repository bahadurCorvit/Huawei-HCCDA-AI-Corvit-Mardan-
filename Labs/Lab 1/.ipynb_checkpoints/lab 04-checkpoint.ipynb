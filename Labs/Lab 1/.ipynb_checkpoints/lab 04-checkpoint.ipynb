{
 "cells": [
  {
   "cell_type": "markdown",
   "metadata": {},
   "source": [
    "# Lab Exercise: Functions in Python\n",
    "\n",
    "## Objectives\n",
    "- Understand the concept of functions.\n",
    "- Learn how to create and call functions.\n",
    "- Explore different types of arguments.\n",
    "- Practice recursion and variable-length arguments.\n",
    "\n",
    "---"
   ]
  },
  {
   "cell_type": "markdown",
   "metadata": {},
   "source": [
    "# What are Functions?\n",
    "\n",
    "Functions are named, reusable blocks of code designed to perform a specific task or calculation. \n",
    "\n",
    "## Purpose:\n",
    "- Organize code into manageable parts.\n",
    "- Promote code reusability and reduce redundancy.\n",
    "_ _ _"
   ]
  },
  {
   "cell_type": "markdown",
   "metadata": {},
   "source": [
    "# Modularity and Code Reusability\n",
    "\n",
    "## Modularity:\n",
    "- Encapsulate functionality for easier code navigation.\n",
    "- Develop, test, and debug independently.\n",
    "\n",
    "## Code Reusability:\n",
    "- Once defined, functions can be reused, making code cleaner and maintainable.\n",
    "_ _ _\n"
   ]
  },
  {
   "cell_type": "markdown",
   "metadata": {},
   "source": [
    "# Creating Functions\n",
    "\n",
    "To create a function, use the `def` keyword followed by the function name and parentheses.\n",
    "\n",
    "## Example:\n"
   ]
  },
  {
   "cell_type": "code",
   "execution_count": 1,
   "metadata": {},
   "outputs": [],
   "source": [
    "def add(a, b):\n",
    "    return a + b\n"
   ]
  },
  {
   "cell_type": "markdown",
   "metadata": {},
   "source": [
    "# Calling Functions\n",
    "\n",
    "Functions are executed when called. \n",
    "\n",
    "## Example:\n"
   ]
  },
  {
   "cell_type": "code",
   "execution_count": 2,
   "metadata": {},
   "outputs": [
    {
     "name": "stdout",
     "output_type": "stream",
     "text": [
      "8\n"
     ]
    }
   ],
   "source": [
    "result = add(3, 5)\n",
    "print(result)  # Output: 8\n"
   ]
  },
  {
   "cell_type": "markdown",
   "metadata": {},
   "source": [
    "# Passing Arguments\n",
    "\n",
    "Arguments are the actual values passed to a function's parameters when called. \n",
    "\n",
    "## Example:\n"
   ]
  },
  {
   "cell_type": "code",
   "execution_count": 3,
   "metadata": {},
   "outputs": [
    {
     "name": "stdout",
     "output_type": "stream",
     "text": [
      "20\n"
     ]
    }
   ],
   "source": [
    "def multiply(x, y):\n",
    "    return x * y\n",
    "\n",
    "# Call the function\n",
    "product = multiply(4, 5)\n",
    "print(product)  # Output: 20\n"
   ]
  },
  {
   "cell_type": "markdown",
   "metadata": {},
   "source": [
    "# Positional Arguments\n",
    "\n",
    "Positional arguments must be passed in the order defined in the function.\n",
    "\n",
    "## Example:\n"
   ]
  },
  {
   "cell_type": "code",
   "execution_count": 9,
   "metadata": {},
   "outputs": [
    {
     "name": "stdout",
     "output_type": "stream",
     "text": [
      "40\n"
     ]
    }
   ],
   "source": [
    "def addition(a, b, c, d=10):\n",
    "    return a+b+c+d\n",
    "\n",
    "print(addition(c=10, a=10, b=10))"
   ]
  },
  {
   "cell_type": "code",
   "execution_count": 5,
   "metadata": {},
   "outputs": [
    {
     "name": "stdout",
     "output_type": "stream",
     "text": [
      "5.0\n",
      "5.0\n"
     ]
    }
   ],
   "source": [
    "def divide(numerator, denominator):\n",
    "    if denominator == 0:\n",
    "        return \"Error: Cannot divide by zero.\"\n",
    "    return numerator / denominator\n",
    "\n",
    "# Correct usage\n",
    "result = divide(10, 2)  \n",
    "print(result)  # Output: 5.0\n",
    "\n",
    "# Incorrect order\n",
    "result = divide(denominator=2, numerator=10)  \n",
    "print(result)  # Output: 0.2\n"
   ]
  },
  {
   "cell_type": "markdown",
   "metadata": {},
   "source": [
    "# Keyword Arguments\n",
    "\n",
    "Keyword arguments allow you to specify parameter names when calling a function.\n",
    "\n",
    "## Example:\n"
   ]
  },
  {
   "cell_type": "code",
   "execution_count": 6,
   "metadata": {},
   "outputs": [
    {
     "name": "stdout",
     "output_type": "stream",
     "text": [
      "Alice is 30 years old and lives in New York.\n"
     ]
    }
   ],
   "source": [
    "def profile(name, age, city):\n",
    "    return f\"{name} is {age} years old and lives in {city}.\"\n",
    "\n",
    "# Calling with keyword arguments\n",
    "info = profile(age=30, name=\"Alice\", city=\"New York\")\n",
    "print(info)  # Output: Alice is 30 years old and lives in New York.\n"
   ]
  },
  {
   "cell_type": "markdown",
   "metadata": {},
   "source": [
    "# Variable-length Arguments (*args)\n",
    "\n",
    "*args allows a function to accept any number of positional arguments.\n",
    "\n",
    "## Example:\n"
   ]
  },
  {
   "cell_type": "code",
   "execution_count": 11,
   "metadata": {},
   "outputs": [
    {
     "name": "stdout",
     "output_type": "stream",
     "text": [
      "  Asad\n",
      "  22\n",
      "  5\n",
      "  3.5\n",
      "  Muhammad\n"
     ]
    }
   ],
   "source": [
    "def concatenate_strings(*args):\n",
    "    return \" \".join(args)\n",
    "\n",
    "result = concatenate_strings(\"Asad\", \"world\", \"from\", \"Python!\")\n",
    "print(result)  # Output: Hello world from Python!\n"
   ]
  },
  {
   "cell_type": "code",
   "execution_count": null,
   "metadata": {},
   "outputs": [],
   "source": [
    "def concatenate_strings(*args):\n",
    "    for i in args:\n",
    "        print(\" \", i)\n",
    "    #return \" \".join(args)\n",
    "\n",
    "concatenate_strings(\"Asad\", 22, 5, 3.5, \"Muhammad\")\n",
    "#print(result)  # Output: Hello world from Python!\n"
   ]
  },
  {
   "cell_type": "code",
   "execution_count": 13,
   "metadata": {},
   "outputs": [
    {
     "name": "stdout",
     "output_type": "stream",
     "text": [
      "40\n"
     ]
    }
   ],
   "source": [
    "def addition(*args):\n",
    "    total=0\n",
    "    for i in args:\n",
    "        total+=i\n",
    "    return total\n",
    "\n",
    "total=addition(10, 10, 10, 10)\n",
    "print(total)  # Output: Hello world from Python!\n"
   ]
  },
  {
   "cell_type": "markdown",
   "metadata": {},
   "source": [
    "# Global and Local Variables\n",
    "\n",
    "- **Global Variables:** Defined outside functions, accessible anywhere.\n",
    "- **Local Variables:** Defined inside functions, accessible only within that function.\n",
    "\n",
    "## Example:\n"
   ]
  },
  {
   "cell_type": "code",
   "execution_count": 16,
   "metadata": {},
   "outputs": [
    {
     "name": "stdout",
     "output_type": "stream",
     "text": [
      "10\n"
     ]
    }
   ],
   "source": [
    "global_var = 10  # Global variable\n",
    "\n",
    "def function():\n",
    "    local_var = 5  # Local variable\n",
    "    print(global_var)  # Accessing global variable\n",
    "\n",
    "function()\n",
    "#print(local_var)\n",
    "# print(local_var)  # Raises an error because local_var is not accessible outside the function.\n"
   ]
  },
  {
   "cell_type": "markdown",
   "metadata": {},
   "source": [
    "# Conclusion\n",
    "\n",
    "In this lab, you have explored the fundamental concepts of Python functions, ranging from basic function creation to more advanced topics such as  variable-length arguments, and passing functions as arguments.\n",
    "\n",
    "### Key Takeaways:\n",
    "- **Functions** are essential for organizing and reusing code, promoting modularity and efficiency.\n",
    "- **Arguments** can be passed in various forms, such as positional, keyword, *args, and **kwargs, allowing for flexible function usage.\n",
    "- **Global and Local Variables** demonstrate the scope and accessibility of variables within and outside functions.\n",
    "- Functions can be passed as arguments to other functions, and functions can return other functions, which is useful for building advanced logic and decorators.\n",
    "\n",
    "By mastering these core concepts, you are now able to write cleaner, more efficient, and reusable code. Additionally, this understanding lays the groundwork for exploring more advanced Python topics such as higher-order functions, functional programming, and closures.\n",
    "\n",
    "Continue practicing by experimenting with different argument types, recursive algorithms, and by building complex systems using functions to reinforce your understanding.\n"
   ]
  }
 ],
 "metadata": {
  "kernelspec": {
   "display_name": "Python 3 (ipykernel)",
   "language": "python",
   "name": "python3"
  },
  "language_info": {
   "codemirror_mode": {
    "name": "ipython",
    "version": 3
   },
   "file_extension": ".py",
   "mimetype": "text/x-python",
   "name": "python",
   "nbconvert_exporter": "python",
   "pygments_lexer": "ipython3",
   "version": "3.8.18"
  }
 },
 "nbformat": 4,
 "nbformat_minor": 2
}
